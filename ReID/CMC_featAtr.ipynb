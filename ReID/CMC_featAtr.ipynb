{
 "cells": [
  {
   "cell_type": "code",
   "execution_count": 4,
   "metadata": {
    "collapsed": true
   },
   "outputs": [],
   "source": [
    "import numpy as np\n",
    "#import matplotlib.pyplot as plt\n",
    "import math\n",
    "#get_ipython().magic(u'matplotlib inline')\n",
    "\n",
    "# Make sure that caffe is on the python path:\n",
    "caffe_root = '../' \n",
    "import sys\n",
    "sys.path.insert(0, caffe_root + 'python')\n",
    "\n",
    "import caffe\n",
    "import fileinput\n",
    "\n",
    "#plt.rcParams['figure.figsize'] = (10, 10)\n",
    "#plt.rcParams['image.interpolation'] = 'nearest'\n",
    "#plt.rcParams['image.cmap'] = 'gray'\n",
    "\n",
    "import os"
   ]
  },
  {
   "cell_type": "code",
   "execution_count": 22,
   "metadata": {
    "collapsed": true
   },
   "outputs": [],
   "source": [
    "def getDiff( vector1, vector2 ):\n",
    "    feat=0\n",
    "    for j in range(4096):\n",
    "        diff= vector1[0][j]-vector2[0][j]\n",
    "        diff=diff*diff\n",
    "        feat=feat+diff\n",
    "\n",
    "    atr= 0 \n",
    "    for j in range(106):\n",
    "        diff= vector1[1][j]-vector2[1][j]\n",
    "        diff=diff*diff\n",
    "        atr=atr+diff\n",
    "\n",
    "    return math.sqrt(0.01*feat + atr)"
   ]
  },
  {
   "cell_type": "code",
   "execution_count": 7,
   "metadata": {
    "collapsed": false
   },
   "outputs": [],
   "source": [
    "# In[4]:\n",
    "\n",
    "caffe.set_device(0)\n",
    "caffe.set_mode_gpu()\n",
    "#net = caffe.Net(caffe_root +  'rank_scripts/split7/deploy_split7_atr.prototxt',\n",
    "#                caffe_root + 'rank_scripts/split7/models500/_iter_15000.caffemodel',\n",
    "#                caffe.TEST)# input preprocessing: 'data'is the name of the input blob == net.inputs[0]\n",
    "net = caffe.Net(caffe_root +  'ReID/split7/deploy_split7_atr.prototxt',\n",
    "                caffe_root + 'ReID/split7/models500/_iter_30000.caffemodel',\n",
    "                caffe.TEST)# input preprocessing: 'data'is the name of the input blob == net.inputs[0]\n",
    "\n",
    "transformer = caffe.io.Transformer({'data': net.blobs['data'].data.shape})\n",
    "transformer.set_transpose('data', (2,0,1))\n",
    "#transformer.set_mean('data', np.load(caffe_root + 'rank_scripts/query_128x128_market.npy').mean(1).mean(1)) # mean pixel\n",
    "transformer.set_raw_scale('data', 255)  # the reference model operates on images in [0,255] range instead of [0,1]\n",
    "transformer.set_channel_swap('data', (2,1,0))  # the reference model has channels in BGR order instead of RGB"
   ]
  },
  {
   "cell_type": "code",
   "execution_count": 16,
   "metadata": {
    "collapsed": true
   },
   "outputs": [],
   "source": [
    "# In[5]:\n",
    "\n",
    "#source of query folder\n",
    "#query_folder = sys.argv[1]\n",
    "query_folder = caffe_root + 'ReID/check_images/'\n",
    "images_list = os.listdir(query_folder)"
   ]
  },
  {
   "cell_type": "code",
   "execution_count": 17,
   "metadata": {
    "collapsed": false
   },
   "outputs": [],
   "source": [
    "# In[6]:\n",
    "\n",
    "num_images = len(images_list)\n",
    "#BatchSize = 100\n",
    "BatchSize = 9\n",
    "j=0\n",
    "images_features = {}\n",
    "while j < num_images:\n",
    "    #net = caffe.Net(caffe_root +  'rank_scripts/split7/deploy_split7_atr.prototxt',\n",
    "#                caffe_root + 'rank_scripts/split7/models500/_iter_15000.caffemodel',\n",
    "#                caffe.TEST)# input preprocessing: 'data'is the name of the input blob == net.inputs[0]\n",
    "    net = caffe.Net(caffe_root +  'ReID/split7/deploy_split7_atr.prototxt',\n",
    "                caffe_root + 'ReID/split7/models500/_iter_30000.caffemodel',\n",
    "                caffe.TEST)# input preprocessing: 'data'is the name of the input blob == net.inputs[0]\n",
    "\n",
    " \n",
    "    # set net to batch size\n",
    "    net.blobs['data'].reshape(BatchSize,3,227,227)\n",
    "    i = 0 \n",
    "    k = j\n",
    "    while j < num_images and i < BatchSize:\n",
    "        query_image = caffe.io.load_image(query_folder+ images_list[j])\n",
    "        net.blobs['data'].data[i] = transformer.preprocess('data', query_image)\n",
    "        i = i + 1 \n",
    "        j = j + 1 \n",
    "            \n",
    "    out = net.forward()\n",
    "    i=0\n",
    "    while k < num_images and i < BatchSize:\n",
    "        #images_features[images_list[k]]=out['fc7'][i]\n",
    "        images_features[images_list[k]]=(out['fc7'][i],out['fc8_a'][i])\n",
    "        i = i + 1\n",
    "        k = k + 1"
   ]
  },
  {
   "cell_type": "code",
   "execution_count": 18,
   "metadata": {
    "collapsed": true
   },
   "outputs": [],
   "source": [
    "num_rank = 6\n",
    "\n",
    "#print images_features['0026_c2s1_001626_00.jpg']\n",
    "images_set= []\n",
    "  \n",
    "#for line in fileinput.input('Town_probeSet.txt'):\n",
    "#    images_set.append(line[:-1])\n",
    "\n",
    "for line in fileinput.input('Town_probe_check.txt'):\n",
    "    images_set.append(line[:-1])"
   ]
  },
  {
   "cell_type": "code",
   "execution_count": 24,
   "metadata": {
    "collapsed": false
   },
   "outputs": [],
   "source": [
    "# In[7]:\n",
    "\n",
    "#file1 = open('town_cmc_500_30000.txt','w')\n",
    "file1 = open('town_cmc_500_30000_check.txt','w')\n",
    "\n",
    "\n",
    "for image_q in images_set:\n",
    "    \n",
    "    vector_query = images_features[image_q]\n",
    "    #plt.figure(figsize=(3,3))\n",
    "    #plt.imshow(query_image)\n",
    "\n",
    "    #Paired list to hold (diff,imagePath)\n",
    "\n",
    "    Rank_list= []\n",
    "\n",
    "    #print images_list\n",
    "\n",
    "    for image in images_list:\n",
    "\n",
    "        vector_new=images_features[image]\n",
    "        diff = getDiff(vector_query, vector_new)\n",
    "\n",
    "        #add the pair (diff,image) to the list\n",
    "        Rank_list.append((diff,image))\n",
    "\n",
    "        #sort the list based on diff\n",
    "    Rank_list.sort()\n",
    "        #remove the last element if more than 'num_rank'\n",
    "        #if len(Rank_list) > num_rank :\n",
    "         #   Rank_list.remove(Rank_list[len(Rank_list)-1])\n",
    "    NewRankList = Rank_list[0:num_rank]\n",
    "\n",
    "    file1.write(image_q)\n",
    "    file1.write(',')\n",
    "    \n",
    "    for item in NewRankList:\n",
    "        file1.write(item[1])\n",
    "        \n",
    "        if item is NewRankList[len(NewRankList)-1]:\n",
    "            file1.write('\\n')\n",
    "        else:\n",
    "            file1.write(',')\n",
    "    \n",
    "file1.close()"
   ]
  }
 ],
 "metadata": {
  "kernelspec": {
   "display_name": "Python 2",
   "language": "python",
   "name": "python2"
  },
  "language_info": {
   "codemirror_mode": {
    "name": "ipython",
    "version": 2
   },
   "file_extension": ".py",
   "mimetype": "text/x-python",
   "name": "python",
   "nbconvert_exporter": "python",
   "pygments_lexer": "ipython2",
   "version": "2.7.6"
  }
 },
 "nbformat": 4,
 "nbformat_minor": 0
}
