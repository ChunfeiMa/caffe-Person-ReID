{
 "cells": [
  {
   "cell_type": "code",
   "execution_count": 1,
   "metadata": {
    "collapsed": false
   },
   "outputs": [],
   "source": [
    "import numpy as np\n",
    "import matplotlib.pyplot as plt\n",
    "import math\n",
    "%matplotlib inline\n",
    "import Image\n",
    "# Make sure that caffe is on the python path:\n",
    "caffe_root = '../../' # Expected to be in rank_scripts/\n",
    "\n",
    "import sys\n",
    "sys.path.insert(0, caffe_root + 'python')\n",
    "\n",
    "import caffe\n",
    "import sys\n",
    "source_folder = '/home/jayant/vision/PETA/'\n",
    "\n",
    "import os\n",
    "import h5py\n",
    "import fileinput"
   ]
  },
  {
   "cell_type": "code",
   "execution_count": 2,
   "metadata": {
    "collapsed": false
   },
   "outputs": [
    {
     "name": "stdout",
     "output_type": "stream",
     "text": [
      "187\n"
     ]
    }
   ],
   "source": [
    "pic = Image.open('/home/jayant/vision/PETA/i-LID_resize/archive/0001_001.jpg')\n",
    "A = np.array(pic)\n",
    "print A[255][127][2]"
   ]
  },
  {
   "cell_type": "code",
   "execution_count": 4,
   "metadata": {
    "collapsed": false
   },
   "outputs": [
    {
     "name": "stdout",
     "output_type": "stream",
     "text": [
      "0.733333\n",
      "0.733333\n"
     ]
    }
   ],
   "source": [
    "image_path = '/home/jayant/vision/PETA/i-LID_resize/archive/0001_001.jpg'\n",
    "query_image = caffe.io.load_image(image_path)\n",
    "A = np.array(query_image)\n",
    "A = A.transpose((2,0,1))\n",
    "print query_image[255][127][2]\n",
    "print A[2][255][127]"
   ]
  },
  {
   "cell_type": "code",
   "execution_count": 16,
   "metadata": {
    "collapsed": false
   },
   "outputs": [],
   "source": [
    "folder = '/home/jayant/vision/PETA/i-LID_alex/archive/'\n",
    "images_list = os.listdir(folder)\n",
    "images_list.sort()\n",
    "image_data = []\n",
    "\n",
    "for image in images_list:\n",
    "    #print image\n",
    "    pic = Image.open(folder+image)\n",
    "    #A = caffe.io.load_image(folder+image)\n",
    "    A = np.array(pic,dtype='f4')\n",
    "    A = A.transpose((2,0,1))\n",
    "    #B= np.array(A,dtype='f4')\n",
    "    image_data.append((A,image))"
   ]
  },
  {
   "cell_type": "code",
   "execution_count": 21,
   "metadata": {
    "collapsed": false
   },
   "outputs": [
    {
     "name": "stdout",
     "output_type": "stream",
     "text": [
      "0001_001.jpg\n"
     ]
    }
   ],
   "source": [
    "print image_data[0][1]"
   ]
  },
  {
   "cell_type": "code",
   "execution_count": 8,
   "metadata": {
    "collapsed": false
   },
   "outputs": [],
   "source": [
    "label_data = []\n",
    "#image_label = []\n",
    "for line in fileinput.input('/home/jayant/vision/PETA/i-LID_atr.txt'):\n",
    "    label_data.append(line[:-2].split(' '))\n",
    "#    image_label.append(line[:-2].split(' ')[0])"
   ]
  },
  {
   "cell_type": "code",
   "execution_count": 9,
   "metadata": {
    "collapsed": false
   },
   "outputs": [],
   "source": [
    "label = []\n",
    "for item in images_list:\n",
    "    label.append(item[0:4])\n",
    "\n",
    "#for item in label:\n",
    "#    print item\n"
   ]
  },
  {
   "cell_type": "code",
   "execution_count": 11,
   "metadata": {
    "collapsed": false
   },
   "outputs": [
    {
     "name": "stdout",
     "output_type": "stream",
     "text": [
      "0\n"
     ]
    }
   ],
   "source": [
    "print label_data[119][106]\n",
    "#print image_label[119]\n",
    "#for item in label_data:\n",
    "    #print item"
   ]
  },
  {
   "cell_type": "code",
   "execution_count": 12,
   "metadata": {
    "collapsed": false
   },
   "outputs": [],
   "source": [
    "attributes = []\n",
    "\n",
    "i=0\n",
    "for lab in label:\n",
    "    if label_data[i][0] == lab:\n",
    "        attributes.append(label_data[i][1:107])\n",
    "    else:\n",
    "        i = i+1\n",
    "        attributes.append(label_data[i][1:107])\n",
    "\n",
    "        \n",
    "#for item in attributes:\n",
    "#    print item"
   ]
  },
  {
   "cell_type": "code",
   "execution_count": 13,
   "metadata": {
    "collapsed": false
   },
   "outputs": [],
   "source": [
    "label = np.array(label,dtype='f4')\n",
    "attributes = np.array(attributes,dtype='f4')"
   ]
  },
  {
   "cell_type": "code",
   "execution_count": 36,
   "metadata": {
    "collapsed": false
   },
   "outputs": [
    {
     "name": "stdout",
     "output_type": "stream",
     "text": [
      "1.0\n",
      "0001_001.jpg\n",
      "[ 0.  0.  0.  0.  0.  0.  1.  1.  0.  0.  0.  0.  0.  0.  0.  0.  0.  0.\n",
      "  0.  0.  0.  0.  0.  0.  0.  0.  0.  0.  0.  0.  0.  1.  1.  0.  0.  0.\n",
      "  0.  0.  0.  0.  0.  1.  0.  0.  0.  0.  0.  0.  0.  0.  0.  0.  0.  1.\n",
      "  0.  0.  0.  0.  1.  0.  0.  0.  0.  1.  0.  0.  0.  0.  0.  0.  0.  0.\n",
      "  1.  0.  0.  0.  1.  0.  0.  1.  1.  0.  0.  0.  0.  0.  0.  0.  0.  1.\n",
      "  0.  0.  0.  0.  1.  0.  0.  0.  0.  1.  0.  0.  0.  0.  0.  1.]\n"
     ]
    }
   ],
   "source": [
    "check= 0\n",
    "print label[check]\n",
    "print image_data[check][1]\n",
    "print attributes[check]"
   ]
  },
  {
   "cell_type": "code",
   "execution_count": 14,
   "metadata": {
    "collapsed": false
   },
   "outputs": [],
   "source": [
    "h = h5py.File(source_folder +  \"i-LID_alex_l1.hdf5\", 'w' )\n",
    "dset1 = h.create_dataset(\"data\", data=image_data)\n",
    "dset2 = h.create_dataset(\"attributes\", data=attributes)\n",
    "dset3 = h.create_dataset(\"label\",  data=label)\n",
    "h.close()"
   ]
  }
 ],
 "metadata": {
  "kernelspec": {
   "display_name": "Python 2",
   "language": "python",
   "name": "python2"
  },
  "language_info": {
   "codemirror_mode": {
    "name": "ipython",
    "version": 2
   },
   "file_extension": ".py",
   "mimetype": "text/x-python",
   "name": "python",
   "nbconvert_exporter": "python",
   "pygments_lexer": "ipython2",
   "version": "2.7.6"
  }
 },
 "nbformat": 4,
 "nbformat_minor": 0
}
