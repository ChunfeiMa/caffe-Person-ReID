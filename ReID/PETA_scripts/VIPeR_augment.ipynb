{
 "cells": [
  {
   "cell_type": "code",
   "execution_count": null,
   "metadata": {
    "collapsed": true
   },
   "outputs": [],
   "source": [
    "import data_augment as da\n",
    "import sys\n",
    "import os\n",
    "import numpy as np\n",
    "import random"
   ]
  },
  {
   "cell_type": "code",
   "execution_count": null,
   "metadata": {
    "collapsed": false
   },
   "outputs": [],
   "source": [
    "#folder =  sys.argv[1]\n",
    "folder =  '/home/jayant/vision/PETA/VIPeR/VIPeR_check/'\n",
    "images_list = os.listdir(folder)\n",
    "os.chdir(folder)\n",
    "\n",
    "for img in images_list:\n",
    "    image = img[0:-8]\n",
    "    os.rename(img, image + '_01.jpg')\n",
    "    src = image + '_01.jpg'\n",
    "    da.mymirror(src, image + '_02.jpg')\n",
    "    shift = 10*random.uniform(-1,1)\n",
    "    da.translate(src, image + '_03.jpg',shift,shift)\n",
    "    da.mymirror(image + '_03.jpg' , image + '_04.jpg')\n",
    "    shift = 10*random.uniform(-1,1)\n",
    "    da.translate(src, image + '_05.jpg',shift,shift)\n",
    "    da.mymirror(image + '_05.jpg' , image + '_06.jpg')"
   ]
  }
 ],
 "metadata": {
  "kernelspec": {
   "display_name": "Python 2",
   "language": "python",
   "name": "python2"
  },
  "language_info": {
   "codemirror_mode": {
    "name": "ipython",
    "version": 2
   },
   "file_extension": ".py",
   "mimetype": "text/x-python",
   "name": "python",
   "nbconvert_exporter": "python",
   "pygments_lexer": "ipython2",
   "version": "2.7.6"
  }
 },
 "nbformat": 4,
 "nbformat_minor": 0
}
