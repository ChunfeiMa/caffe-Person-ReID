{
 "cells": [
  {
   "cell_type": "code",
   "execution_count": 1,
   "metadata": {
    "collapsed": false
   },
   "outputs": [],
   "source": [
    "import numpy as np\n",
    "import matplotlib.pyplot as plt\n",
    "import math\n",
    "%matplotlib inline\n",
    "import Image\n",
    "# Make sure that caffe is on the python path:\n",
    "caffe_root = '../../' # Expected to be in rank_scripts/\n",
    "\n",
    "import sys\n",
    "sys.path.insert(0, caffe_root + 'python')\n",
    "\n",
    "import caffe\n",
    "import sys\n",
    "source_folder = '/home/jayant/vision/PETA/'\n",
    "\n",
    "import os\n",
    "import h5py\n",
    "import fileinput"
   ]
  },
  {
   "cell_type": "code",
   "execution_count": 2,
   "metadata": {
    "collapsed": false
   },
   "outputs": [
    {
     "name": "stdout",
     "output_type": "stream",
     "text": [
      "187\n"
     ]
    }
   ],
   "source": [
    "pic = Image.open('/home/jayant/vision/PETA/i-LID_resize/archive/0001_001.jpg')\n",
    "A = np.array(pic)\n",
    "print A[255][127][2]"
   ]
  },
  {
   "cell_type": "code",
   "execution_count": 4,
   "metadata": {
    "collapsed": false
   },
   "outputs": [
    {
     "name": "stdout",
     "output_type": "stream",
     "text": [
      "0.733333\n",
      "0.733333\n"
     ]
    }
   ],
   "source": [
    "image_path = '/home/jayant/vision/PETA/i-LID_resize/archive/0001_001.jpg'\n",
    "query_image = caffe.io.load_image(image_path)\n",
    "A = np.array(query_image)\n",
    "A = A.transpose((2,0,1))\n",
    "print query_image[255][127][2]\n",
    "print A[2][255][127]"
   ]
  },
  {
   "cell_type": "code",
   "execution_count": 16,
   "metadata": {
    "collapsed": false
   },
   "outputs": [],
   "source": [
    "folder = '/home/jayant/vision/PETA/i-LID_alex/archive/'\n",
    "images_list = os.listdir(folder)\n",
    "images_list.sort()\n",
    "image_data = []\n",
    "\n",
    "for image in images_list:\n",
    "    #print image\n",
    "    pic = Image.open(folder+image)\n",
    "    #A = caffe.io.load_image(folder+image)\n",
    "    A = np.array(pic,dtype='f4')\n",
    "    A = A.transpose((2,0,1))\n",
    "    #B= np.array(A,dtype='f4')\n",
    "    image_data.append((A,image)) #just for checking"
   ]
  },
  {
   "cell_type": "code",
   "execution_count": 21,
   "metadata": {
    "collapsed": false
   },
   "outputs": [
    {
     "name": "stdout",
     "output_type": "stream",
     "text": [
      "0001_001.jpg\n"
     ]
    }
   ],
   "source": [
    "print image_data[0][1]"
   ]
  },
  {
   "cell_type": "code",
   "execution_count": 38,
   "metadata": {
    "collapsed": false
   },
   "outputs": [],
   "source": [
    "label_data = []\n",
    "#image_label = []\n",
    "for line in fileinput.input('/home/jayant/vision/PETA/i-LID_atr.txt'):\n",
    "    label_data.append(line[:-2].split(' '))\n",
    "#    image_label.append(line[:-2].split(' ')[0])"
   ]
  },
  {
   "cell_type": "code",
   "execution_count": 48,
   "metadata": {
    "collapsed": false
   },
   "outputs": [],
   "source": [
    "label = []\n",
    "for item in images_list:\n",
    "    label.append(item[0:4])\n",
    "\n",
    "#for item in label:\n",
    "#    print item\n"
   ]
  },
  {
   "cell_type": "code",
   "execution_count": 42,
   "metadata": {
    "collapsed": false
   },
   "outputs": [
    {
     "name": "stdout",
     "output_type": "stream",
     "text": [
      "0\n"
     ]
    }
   ],
   "source": [
    "print label_data[119][106]\n",
    "#print image_label[119]\n",
    "#for item in label_data:\n",
    "    #print item"
   ]
  },
  {
   "cell_type": "code",
   "execution_count": 43,
   "metadata": {
    "collapsed": false
   },
   "outputs": [],
   "source": [
    "attributes = []\n",
    "\n",
    "i=0\n",
    "for lab in label:\n",
    "    if label_data[i][0] == lab:\n",
    "        attributes.append(label_data[i][1:107])\n",
    "    else:\n",
    "        i = i+1\n",
    "        attributes.append(label_data[i][1:107])\n",
    "\n",
    "        \n",
    "#for item in attributes:\n",
    "#    print item"
   ]
  },
  {
   "cell_type": "code",
   "execution_count": 49,
   "metadata": {
    "collapsed": false
   },
   "outputs": [
    {
     "name": "stdout",
     "output_type": "stream",
     "text": [
      "['0001', '0001', '0001', '0001', '0002', '0002', '0002', '0002', '0003', '0003', '0003', '0004', '0004', '0004', '0005', '0005', '0005', '0005', '0006', '0006', '0006', '0006', '0007', '0007', '0008', '0008', '0009', '0009', '0009', '0009', '0010', '0010', '0010', '0010', '0011', '0011', '0011', '0011', '0011', '0012', '0012', '0012', '0012', '0012', '0013', '0013', '0013', '0014', '0014', '0014', '0015', '0015', '0015', '0015', '0015', '0015', '0015', '0016', '0016', '0016', '0016', '0016', '0016', '0016', '0017', '0017', '0018', '0018', '0019', '0019', '0019', '0019', '0019', '0019', '0020', '0020', '0020', '0020', '0020', '0020', '0021', '0021', '0021', '0022', '0022', '0022', '0023', '0023', '0023', '0023', '0023', '0023', '0024', '0024', '0024', '0024', '0024', '0024', '0025', '0025', '0025', '0025', '0025', '0025', '0025', '0025', '0026', '0026', '0026', '0026', '0026', '0026', '0026', '0026', '0027', '0027', '0027', '0027', '0027', '0027', '0028', '0028', '0028', '0028', '0028', '0028', '0029', '0029', '0029', '0029', '0029', '0030', '0030', '0030', '0031', '0031', '0031', '0031', '0031', '0031', '0031', '0031', '0032', '0032', '0032', '0032', '0032', '0032', '0032', '0032', '0033', '0033', '0033', '0033', '0033', '0034', '0034', '0034', '0034', '0034', '0035', '0035', '0035', '0035', '0035', '0035', '0035', '0036', '0036', '0036', '0036', '0036', '0036', '0036', '0037', '0037', '0037', '0037', '0037', '0037', '0038', '0038', '0038', '0038', '0038', '0038', '0039', '0039', '0039', '0039', '0039', '0039', '0040', '0040', '0040', '0040', '0040', '0040', '0041', '0041', '0041', '0042', '0042', '0042', '0042', '0042', '0042', '0043', '0043', '0043', '0043', '0043', '0043', '0044', '0044', '0044', '0044', '0044', '0044', '0045', '0045', '0045', '0045', '0045', '0046', '0046', '0046', '0046', '0046', '0047', '0047', '0047', '0048', '0048', '0048', '0049', '0049', '0049', '0050', '0050', '0050', '0050', '0051', '0051', '0051', '0051', '0052', '0052', '0052', '0052', '0052', '0053', '0053', '0053', '0053', '0053', '0054', '0054', '0054', '0054', '0055', '0055', '0055', '0055', '0056', '0056', '0056', '0057', '0057', '0057', '0058', '0058', '0058', '0059', '0059', '0059', '0060', '0060', '0060', '0061', '0061', '0061', '0062', '0062', '0062', '0062', '0063', '0063', '0063', '0063', '0064', '0064', '0064', '0064', '0064', '0065', '0065', '0065', '0065', '0065', '0066', '0066', '0066', '0067', '0067', '0067', '0068', '0068', '0068', '0069', '0069', '0069', '0070', '0070', '0070', '0071', '0071', '0071', '0072', '0072', '0072', '0073', '0073', '0073', '0074', '0074', '0074', '0074', '0074', '0075', '0075', '0075', '0075', '0075', '0076', '0076', '0076', '0076', '0077', '0077', '0077', '0077', '0078', '0078', '0078', '0078', '0079', '0079', '0079', '0079', '0080', '0080', '0080', '0080', '0080', '0080', '0081', '0081', '0081', '0081', '0081', '0081', '0082', '0082', '0082', '0082', '0083', '0083', '0083', '0083', '0084', '0084', '0085', '0085', '0086', '0086', '0087', '0087', '0088', '0088', '0088', '0089', '0089', '0089', '0090', '0090', '0091', '0091', '0092', '0092', '0093', '0093', '0094', '0094', '0095', '0095', '0096', '0096', '0097', '0097', '0098', '0098', '0098', '0098', '0098', '0098', '0099', '0099', '0099', '0099', '0099', '0099', '0100', '0100', '0101', '0101', '0102', '0102', '0103', '0103', '0104', '0104', '0105', '0105', '0105', '0105', '0106', '0106', '0106', '0106', '0107', '0107', '0107', '0107', '0108', '0108', '0108', '0109', '0109', '0109', '0110', '0110', '0110', '0110', '0111', '0111', '0111', '0112', '0112', '0112', '0113', '0113', '0113', '0113', '0113', '0114', '0114', '0114', '0114', '0114', '0115', '0115', '0116', '0116', '0116', '0117', '0117', '0117', '0118', '0118', '0118', '0118', '0119', '0119', '0119', '0119', '0120']\n"
     ]
    }
   ],
   "source": [
    "print label"
   ]
  },
  {
   "cell_type": "code",
   "execution_count": 45,
   "metadata": {
    "collapsed": false
   },
   "outputs": [],
   "source": [
    "label = np.array(label,dtype='f4')\n",
    "attributes = np.array(attributes,dtype='f4')"
   ]
  },
  {
   "cell_type": "code",
   "execution_count": 50,
   "metadata": {
    "collapsed": false
   },
   "outputs": [
    {
     "name": "stdout",
     "output_type": "stream",
     "text": [
      "0015\n",
      "0015_001.jpg\n",
      "[ 0.  0.  0.  1.  0.  0.  1.  0.  0.  0.  0.  0.  0.  0.  0.  0.  0.  0.\n",
      "  0.  0.  0.  0.  0.  0.  0.  0.  0.  0.  0.  0.  0.  1.  1.  0.  1.  0.\n",
      "  0.  0.  0.  0.  0.  0.  0.  0.  0.  0.  1.  0.  0.  0.  0.  1.  0.  1.\n",
      "  0.  0.  0.  1.  0.  0.  0.  0.  0.  0.  0.  0.  0.  0.  1.  0.  0.  0.\n",
      "  0.  1.  0.  0.  0.  0.  0.  0.  1.  0.  1.  0.  0.  0.  0.  0.  0.  1.\n",
      "  0.  0.  0.  0.  0.  1.  0.  0.  0.  1.  0.  0.  0.  0.  0.  0.]\n"
     ]
    }
   ],
   "source": [
    "check= 50\n",
    "print label[check]\n",
    "print image_data[check][1]\n",
    "print attributes[check]"
   ]
  },
  {
   "cell_type": "code",
   "execution_count": 14,
   "metadata": {
    "collapsed": false
   },
   "outputs": [],
   "source": [
    "h = h5py.File(source_folder +  \"i-LID_alex_l1.hdf5\", 'w' )\n",
    "dset1 = h.create_dataset(\"data\", data=image_data)\n",
    "dset2 = h.create_dataset(\"attributes\", data=attributes)\n",
    "dset3 = h.create_dataset(\"label\",  data=label)\n",
    "h.close()"
   ]
  }
 ],
 "metadata": {
  "kernelspec": {
   "display_name": "Python 2",
   "language": "python",
   "name": "python2"
  },
  "language_info": {
   "codemirror_mode": {
    "name": "ipython",
    "version": 2
   },
   "file_extension": ".py",
   "mimetype": "text/x-python",
   "name": "python",
   "nbconvert_exporter": "python",
   "pygments_lexer": "ipython2",
   "version": "2.7.6"
  }
 },
 "nbformat": 4,
 "nbformat_minor": 0
}
