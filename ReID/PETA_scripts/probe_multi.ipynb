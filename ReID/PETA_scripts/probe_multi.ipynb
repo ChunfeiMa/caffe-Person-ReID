{
 "cells": [
  {
   "cell_type": "code",
   "execution_count": 1,
   "metadata": {
    "collapsed": true
   },
   "outputs": [],
   "source": [
    "import sys\n",
    "import fileinput\n",
    "\n",
    "List1 = []\n",
    "\n",
    "for line in fileinput.input('gallery_i-LID.txt'):\n",
    "    List1.append(line)"
   ]
  },
  {
   "cell_type": "code",
   "execution_count": 2,
   "metadata": {
    "collapsed": true
   },
   "outputs": [],
   "source": [
    "List2 = []\n",
    "List2.append(List1[0].split()[1])\n",
    "List3=[]\n",
    "\n",
    "file1= open('probe_i-LID_check.txt','w')\n",
    "\n",
    "for item in List1:\n",
    "    #print int(item.split()[1])\n",
    "    num1=int(item.split()[1])\n",
    "    num2=int(List2[len(List2)-1])\n",
    "    if num1 in List2:\n",
    "        # do nothing\n",
    "        #print 'check'\n",
    "        i=3\n",
    "    else :\n",
    "        List2.append(num1)\n",
    "        List3.append(item.split()[0])\n",
    "        file1.write(item.split()[0]+'\\n')\n",
    "#for item in List2:\n",
    "    #print item"
   ]
  },
  {
   "cell_type": "code",
   "execution_count": 3,
   "metadata": {
    "collapsed": true
   },
   "outputs": [],
   "source": [
    "file1= open('probe_i-LID.txt','w')\n",
    "\n",
    "for item in List3:\n",
    "    file1.write(item)\n",
    "    file1.write('\\n')\n",
    "    \n",
    "file1.close()"
   ]
  }
 ],
 "metadata": {
  "kernelspec": {
   "display_name": "Python 2",
   "language": "python",
   "name": "python2"
  },
  "language_info": {
   "codemirror_mode": {
    "name": "ipython",
    "version": 2
   },
   "file_extension": ".py",
   "mimetype": "text/x-python",
   "name": "python",
   "nbconvert_exporter": "python",
   "pygments_lexer": "ipython2",
   "version": "2.7.6"
  }
 },
 "nbformat": 4,
 "nbformat_minor": 0
}
