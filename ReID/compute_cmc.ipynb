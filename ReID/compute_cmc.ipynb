{
 "cells": [
  {
   "cell_type": "code",
   "execution_count": 5,
   "metadata": {
    "collapsed": false
   },
   "outputs": [],
   "source": [
    "import sys\n",
    "import fileinput\n",
    "import matplotlib\n",
    "import matplotlib.pyplot as plt\n",
    "%matplotlib inline \n",
    "import numpy as np\n",
    "\n",
    "data = []\n",
    "\n",
    "for line in fileinput.input('town_cmc_401_15000.txt'):\n",
    "    data.append(line[:-1].split(','))\n",
    "    \n",
    "#for item in data:multi_town_cmc_107_20000\n",
    "#    print item\n",
    "    \n",
    "#print data"
   ]
  },
  {
   "cell_type": "code",
   "execution_count": 6,
   "metadata": {
    "collapsed": false
   },
   "outputs": [
    {
     "name": "stdout",
     "output_type": "stream",
     "text": [
      "5\n"
     ]
    }
   ],
   "source": [
    "num_rank = len(data[0])-2\n",
    "print num_rank"
   ]
  },
  {
   "cell_type": "code",
   "execution_count": 7,
   "metadata": {
    "collapsed": false
   },
   "outputs": [
    {
     "name": "stdout",
     "output_type": "stream",
     "text": [
      "[73, 79, 81, 81, 82]\n"
     ]
    }
   ],
   "source": [
    "Rank_cnt = [0]* num_rank\n",
    "k=0\n",
    "p=0\n",
    "for item in data:\n",
    "    query_id = int(item[0].split('_')[0])\n",
    "    \n",
    "    for i in range(2,len(item)):\n",
    "        match_id = int(item[i].split('_')[0])\n",
    "\n",
    "        if match_id == query_id :\n",
    "            for j in range(i,len(item)):\n",
    "                Rank_cnt[j-2] = Rank_cnt[j-2]+1\n",
    "            break\n",
    "    \n",
    "\n",
    "print Rank_cnt"
   ]
  },
  {
   "cell_type": "code",
   "execution_count": 8,
   "metadata": {
    "collapsed": false
   },
   "outputs": [
    {
     "name": "stdout",
     "output_type": "stream",
     "text": [
      "[68.86792452830188, 74.52830188679245, 76.41509433962264, 76.41509433962264, 77.35849056603773]\n"
     ]
    }
   ],
   "source": [
    "x  = range(1,num_rank+1)\n",
    "y = []\n",
    "\n",
    "for rank in Rank_cnt:\n",
    "    y.append(rank*100*1.0/len(data))\n",
    "    \n",
    "print y"
   ]
  },
  {
   "cell_type": "code",
   "execution_count": 5,
   "metadata": {
    "collapsed": false
   },
   "outputs": [
    {
     "data": {
      "image/png": "[encoded data removed]",
      "text/plain": [
       "<matplotlib.figure.Figure at 0x7f51c4190150>"
      ]
     },
     "metadata": {},
     "output_type": "display_data"
    }
   ],
   "source": [
    "plt.plot(x,y)\n",
    "plt.xticks(np.arange(1,num_rank+1,1))\n",
    "plt.savefig('temp.png')"
   ]
  }
 ],
 "metadata": {
  "kernelspec": {
   "display_name": "Python 2",
   "language": "python",
   "name": "python2"
  },
  "language_info": {
   "codemirror_mode": {
    "name": "ipython",
    "version": 2
   },
   "file_extension": ".py",
   "mimetype": "text/x-python",
   "name": "python",
   "nbconvert_exporter": "python",
   "pygments_lexer": "ipython2",
   "version": "2.7.6"
  }
 },
 "nbformat": 4,
 "nbformat_minor": 0
}
