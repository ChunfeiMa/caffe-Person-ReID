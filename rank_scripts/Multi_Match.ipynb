{
 "cells": [
  {
   "cell_type": "code",
   "execution_count": 2,
   "metadata": {
    "collapsed": true
   },
   "outputs": [],
   "source": [
    "import numpy as np\n",
    "import matplotlib.pyplot as plt\n",
    "import math\n",
    "%matplotlib inline\n",
    "\n",
    "# Make sure that caffe is on the python path:\n",
    "caffe_root = '../' # Expected to be in rank_scripts/\n",
    "\n",
    "import sys\n",
    "sys.path.insert(0, caffe_root + 'python')\n",
    "\n",
    "import caffe\n",
    "\n",
    "plt.rcParams['figure.figsize'] = (10, 10)\n",
    "plt.rcParams['image.interpolation'] = 'nearest'\n",
    "plt.rcParams['image.cmap'] = 'gray'\n",
    "\n",
    "import os"
   ]
  },
  {
   "cell_type": "code",
   "execution_count": 5,
   "metadata": {
    "collapsed": false
   },
   "outputs": [],
   "source": [
    "caffe.set_device(0)\n",
    "caffe.set_mode_gpu()\n",
    "net = caffe.Net(caffe_root +  'rank_scripts/multi/deploy_multinet.prototxt',\n",
    "                caffe_root + 'rank_scripts/models103/_iter_500.caffemodel',\n",
    "                caffe.TEST)\n",
    "net1 = caffe.Net(caffe_root +  'rank_scripts/multi/deploy_multinet.prototxt',\n",
    "                caffe_root + 'rank_scripts/models103/_iter_500.caffemodel',\n",
    "                caffe.TEST)\n",
    "\n",
    "# input preprocessing: 'data' is the name of the input blob == net.inputs[0]\n",
    "transformer = caffe.io.Transformer({'data': net.blobs['data'].data.shape})\n",
    "transformer.set_transpose('data', (2,0,1))\n",
    "#transformer.set_mean('data', np.load(caffe_root + 'rank_scripts/query_256x128_market.npy').mean(1).mean(1)) # mean pixel\n",
    "transformer.set_raw_scale('data', 255)  # the reference model operates on images in [0,255] range instead of [0,1]\n",
    "transformer.set_channel_swap('data', (2,1,0))  # the reference model has channels in BGR order instead of RGB"
   ]
  },
  {
   "cell_type": "code",
   "execution_count": 7,
   "metadata": {
    "collapsed": false
   },
   "outputs": [],
   "source": [
    "# set net to batch size of 50\n",
    "net.blobs['data'].reshape(50,3,227,227)\n",
    "net1.blobs['data'].reshape(50,3,227,227)"
   ]
  },
  {
   "cell_type": "code",
   "execution_count": 23,
   "metadata": {
    "collapsed": false
   },
   "outputs": [
    {
     "name": "stdout",
     "output_type": "stream",
     "text": [
      "[-17.52217484  -2.74302793 -25.95532036 ..., -16.93779564 -20.23269272\n",
      " -10.90326118]\n"
     ]
    }
   ],
   "source": [
    "net.blobs['data'].data[...] = transformer.preprocess('data', caffe.io.load_image('/home/jayant/vision/PETA/i-LID_alex/archive/0005_002.jpg'))\n",
    "#check_image =  caffe.io.load_image(caffe_root + 'rank_scripts/images_market/0002_c1s2_050821_02.jpg')\n",
    "out = net.forward()\n",
    "vector1=out['fc7'][0]\n",
    "print vector1\n",
    "#plt.imshow(check_image)"
   ]
  },
  {
   "cell_type": "code",
   "execution_count": 27,
   "metadata": {
    "collapsed": false
   },
   "outputs": [
    {
     "name": "stdout",
     "output_type": "stream",
     "text": [
      "[-14.26633739 -18.01190948 -18.61690331 ...,  -9.3441267   -4.8424325\n",
      "  -6.29477739]\n"
     ]
    }
   ],
   "source": [
    "net1.blobs['data'].data[...] = transformer.preprocess('data', caffe.io.load_image('/home/jayant/vision/PETA/i-LID_alex/archive/0003_001.jpg'))\n",
    "out1 = net1.forward()\n",
    "vector2=out1['fc7'][0]\n",
    "print vector2"
   ]
  },
  {
   "cell_type": "code",
   "execution_count": 28,
   "metadata": {
    "collapsed": false
   },
   "outputs": [
    {
     "name": "stdout",
     "output_type": "stream",
     "text": [
      "747.432931283\n"
     ]
    }
   ],
   "source": [
    "# calculating euclidean distance\n",
    "sum=0\n",
    "for i in range(4096):\n",
    "        diff= vector1[i]-vector2[i]\n",
    "        diff=diff*diff\n",
    "        sum=sum+diff\n",
    "        \n",
    "print math.sqrt(sum)"
   ]
  }
 ],
 "metadata": {
  "kernelspec": {
   "display_name": "Python 2",
   "language": "python",
   "name": "python2"
  },
  "language_info": {
   "codemirror_mode": {
    "name": "ipython",
    "version": 2
   },
   "file_extension": ".py",
   "mimetype": "text/x-python",
   "name": "python",
   "nbconvert_exporter": "python",
   "pygments_lexer": "ipython2",
   "version": "2.7.6"
  }
 },
 "nbformat": 4,
 "nbformat_minor": 0
}
