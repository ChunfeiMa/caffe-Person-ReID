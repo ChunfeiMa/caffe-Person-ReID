{
 "cells": [
  {
   "cell_type": "code",
   "execution_count": 1,
   "metadata": {
    "collapsed": true
   },
   "outputs": [],
   "source": [
    "import numpy as np\n",
    "import matplotlib.pyplot as plt\n",
    "import math\n",
    "%matplotlib inline\n",
    "import Image\n",
    "# Make sure that caffe is on the python path:\n",
    "caffe_root = '../../' # Expected to be in rank_scripts/\n",
    "\n",
    "import sys\n",
    "sys.path.insert(0, caffe_root + 'python')\n",
    "\n",
    "import caffe\n",
    "import sys\n",
    "source_folder = '/home/jayant/vision/PETA/'\n",
    "\n",
    "import os\n",
    "import h5py\n",
    "import fileinput"
   ]
  },
  {
   "cell_type": "code",
   "execution_count": 13,
   "metadata": {
    "collapsed": true
   },
   "outputs": [],
   "source": [
    "folder = '/home/jayant/vision/PETA/GRID/GRID_alex_gallery/'\n",
    "GRID_images_list = os.listdir(folder)\n",
    "\n",
    "GR_images_list= []\n",
    "for item in GRID_images_list:\n",
    "    GR_images_list.append((int(item.split('_')[0]),item))\n",
    "GR_images_list.sort()\n",
    "\n",
    "GR_images_list[250:len(GRID_images_list)] = [] "
   ]
  },
  {
   "cell_type": "code",
   "execution_count": 15,
   "metadata": {
    "collapsed": false
   },
   "outputs": [],
   "source": [
    "#for item in GR_images_list:\n",
    "#    print item"
   ]
  },
  {
   "cell_type": "code",
   "execution_count": 16,
   "metadata": {
    "collapsed": false
   },
   "outputs": [],
   "source": [
    "Probe_set = {}\n",
    "for item in GR_images_list:\n",
    "    Probe_set[item[0]]=item[1]"
   ]
  },
  {
   "cell_type": "code",
   "execution_count": 21,
   "metadata": {
    "collapsed": false
   },
   "outputs": [],
   "source": [
    "file2 = open('GRID_probe.txt','w')\n",
    "for item in Probe_set:\n",
    "    file2.write(Probe_set[item])\n",
    "    file2.write('\\n')"
   ]
  },
  {
   "cell_type": "code",
   "execution_count": 22,
   "metadata": {
    "collapsed": false
   },
   "outputs": [
    {
     "name": "stdout",
     "output_type": "stream",
     "text": [
      "0250_5_33216_138_144_103_292.jpeg\n"
     ]
    }
   ],
   "source": [
    "print Probe_set[250]"
   ]
  }
 ],
 "metadata": {
  "kernelspec": {
   "display_name": "Python 2",
   "language": "python",
   "name": "python2"
  },
  "language_info": {
   "codemirror_mode": {
    "name": "ipython",
    "version": 2
   },
   "file_extension": ".py",
   "mimetype": "text/x-python",
   "name": "python",
   "nbconvert_exporter": "python",
   "pygments_lexer": "ipython2",
   "version": "2.7.6"
  }
 },
 "nbformat": 4,
 "nbformat_minor": 0
}
