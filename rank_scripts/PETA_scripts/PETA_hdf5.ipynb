{
 "cells": [
  {
   "cell_type": "code",
   "execution_count": 82,
   "metadata": {
    "collapsed": false
   },
   "outputs": [],
   "source": [
    "import numpy as np\n",
    "import matplotlib.pyplot as plt\n",
    "import math\n",
    "%matplotlib inline\n",
    "import Image\n",
    "# Make sure that caffe is on the python path:\n",
    "caffe_root = '../../' # Expected to be in rank_scripts/\n",
    "\n",
    "import sys\n",
    "sys.path.insert(0, caffe_root + 'python')\n",
    "\n",
    "import caffe\n",
    "import sys\n",
    "source_folder = '/home/jayant/vision/PETA/'\n",
    "\n",
    "import os\n",
    "import h5py\n",
    "import fileinput"
   ]
  },
  {
   "cell_type": "code",
   "execution_count": 83,
   "metadata": {
    "collapsed": false
   },
   "outputs": [
    {
     "name": "stdout",
     "output_type": "stream",
     "text": [
      "121.0\n"
     ]
    }
   ],
   "source": [
    "#check cell for image input\n",
    "#image_path = '/home/jayant/vision/PETA/i-LID_resize/archive/0001_001.jpg'\n",
    "image_path = '/home/jayant/vision/PETA/GRID/alex_size/0001_1_25004_107_32_106_221.jpeg'\n",
    "#query_image = caffe.io.load_image(image_path)\n",
    "query_image = Image.open(image_path)\n",
    "A = np.array(query_image,dtype='f4')\n",
    "A = A.transpose((2,0,1))\n",
    "#print query_image[255][127][2]\n",
    "print A[0][226][127]"
   ]
  },
  {
   "cell_type": "code",
   "execution_count": 84,
   "metadata": {
    "collapsed": true
   },
   "outputs": [],
   "source": [
    "image_data = []"
   ]
  },
  {
   "cell_type": "code",
   "execution_count": 85,
   "metadata": {
    "collapsed": false
   },
   "outputs": [],
   "source": [
    "folder = '/home/jayant/vision/PETA/i-LID_alex/archive/'\n",
    "LID_images_list = os.listdir(folder)\n",
    "LID_images_list.sort()\n",
    "\n",
    "\n",
    "for image in LID_images_list:\n",
    "    #print image\n",
    "    pic = Image.open(folder+image)\n",
    "    #A = caffe.io.load_image(folder+image)\n",
    "    A = np.array(pic,dtype='f4')\n",
    "    A = A.transpose((2,0,1))\n",
    "    #B= np.array(A,dtype='f4')\n",
    "    image_data.append(A)\n",
    "    #image_data.append((image,A))"
   ]
  },
  {
   "cell_type": "code",
   "execution_count": 86,
   "metadata": {
    "collapsed": false
   },
   "outputs": [],
   "source": [
    "folder = '/home/jayant/vision/PETA/3DPeS/alex_size/'\n",
    "D_images_list = os.listdir(folder)\n",
    "D3_images_list= []\n",
    "for item in D_images_list:\n",
    "    D3_images_list.append((int(item.split('_')[0]),item))\n",
    "D3_images_list.sort()\n",
    "\n",
    "for item in D3_images_list:\n",
    "    image= item[1]\n",
    "    #print image\n",
    "    pic = Image.open(folder+image)\n",
    "    #A = caffe.io.load_image(folder+image)\n",
    "    A = np.array(pic,dtype='f4')\n",
    "    A = A.transpose((2,0,1))\n",
    "    #B= np.array(A,dtype='f4')\n",
    "    image_data.append(A)\n",
    "    #image_data.append((image,A))"
   ]
  },
  {
   "cell_type": "code",
   "execution_count": 87,
   "metadata": {
    "collapsed": false
   },
   "outputs": [],
   "source": [
    "folder = '/home/jayant/vision/PETA/GRID/alex_size/'\n",
    "GRID_images_list = os.listdir(folder)\n",
    "\n",
    "GR_images_list= []\n",
    "for item in GRID_images_list:\n",
    "    GR_images_list.append((int(item.split('_')[0]),item))\n",
    "GR_images_list.sort()\n",
    "\n",
    "GR_images_list[250:len(GRID_images_list)] = []  #taking only first 125 samples for training \n",
    "                                                #leaving the rest 125 for testing\n",
    "for item in GR_images_list:\n",
    "    image= item[1]\n",
    "    #print image\n",
    "    pic = Image.open(folder+image)\n",
    "    #A = caffe.io.load_image(folder+image)\n",
    "    A = np.array(pic,dtype='f4')\n",
    "    A = A.transpose((2,0,1))\n",
    "    #B= np.array(A,dtype='f4')\n",
    "    image_data.append(A)\n",
    "    #image_data.append((image,A))"
   ]
  },
  {
   "cell_type": "code",
   "execution_count": 88,
   "metadata": {
    "collapsed": false
   },
   "outputs": [
    {
     "name": "stdout",
     "output_type": "stream",
     "text": [
      "[[[ 138.  137.  136. ...,   85.   84.   81.]\n",
      "  [ 139.  138.  137. ...,   86.   85.   82.]\n",
      "  [ 140.  138.  137. ...,   91.   89.   86.]\n",
      "  ..., \n",
      "  [  83.   84.   85. ...,   82.   82.   82.]\n",
      "  [  82.   82.   83. ...,   82.   82.   82.]\n",
      "  [  82.   83.   83. ...,   82.   82.   82.]]\n",
      "\n",
      " [[ 126.  125.  126. ...,   93.   90.   87.]\n",
      "  [ 127.  128.  127. ...,   95.   91.   88.]\n",
      "  [ 129.  130.  129. ...,   98.   95.   92.]\n",
      "  ..., \n",
      "  [  61.   62.   63. ...,   77.   77.   77.]\n",
      "  [  64.   64.   65. ...,   77.   77.   77.]\n",
      "  [  64.   65.   65. ...,   77.   77.   77.]]\n",
      "\n",
      " [[ 100.   99.   99. ...,   69.   64.   61.]\n",
      "  [ 103.  103.  102. ...,   66.   63.   60.]\n",
      "  [ 109.  109.  108. ...,   65.   61.   58.]\n",
      "  ..., \n",
      "  [  47.   48.   49. ...,   48.   48.   48.]\n",
      "  [  44.   44.   45. ...,   48.   48.   48.]\n",
      "  [  44.   45.   45. ...,   48.   48.   48.]]]\n"
     ]
    }
   ],
   "source": [
    "#check image_data\n",
    "print image_data[1738]"
   ]
  },
  {
   "cell_type": "code",
   "execution_count": 7,
   "metadata": {
    "collapsed": false
   },
   "outputs": [],
   "source": [
    "#for item in D3_images_list:\n",
    "#    print item[1]"
   ]
  },
  {
   "cell_type": "code",
   "execution_count": 89,
   "metadata": {
    "collapsed": false
   },
   "outputs": [],
   "source": [
    "label_data = []\n",
    "#image_label = []\n",
    "for line in fileinput.input('/home/jayant/vision/PETA/i-LID_atr.txt'):\n",
    "    label_data.append(line[:-2].split(' '))\n",
    "#    image_label.append(line[:-2].split(' ')[0])"
   ]
  },
  {
   "cell_type": "code",
   "execution_count": 32,
   "metadata": {
    "collapsed": false
   },
   "outputs": [
    {
     "name": "stdout",
     "output_type": "stream",
     "text": [
      "0100\n",
      "['0', '0', '0', '0', '0', '0', '1', '1', '0', '0', '0', '0', '0', '0', '0', '1', '0', '0', '0', '0', '0', '0', '0', '0', '0', '0', '0', '0', '0', '0', '0', '1', '1', '0', '0', '0', '0', '0', '0', '0', '0', '0', '0', '1', '0', '0', '0', '0', '0', '0', '0', '0', '1', '1', '0', '0', '0', '0', '1', '0', '0', '0', '0', '1', '0', '0', '0', '0', '0', '0', '0', '0', '0', '0', '0', '0', '1', '0', '0', '0', '1', '0', '1', '0', '0', '0', '0', '0', '0', '1', '0', '0', '0', '0', '1', '1', '0', '0', '0', '0', '0', '0', '0', '1', '0', '0']\n",
      "sum = 17\n",
      "7\n",
      "8\n",
      "16\n",
      "32\n",
      "33\n",
      "44\n",
      "53\n",
      "54\n",
      "59\n",
      "64\n",
      "77\n",
      "81\n",
      "83\n",
      "90\n",
      "95\n",
      "96\n",
      "104\n"
     ]
    }
   ],
   "source": [
    "check = 99\n",
    "print label_data[check][0]\n",
    "print label_data[check][1:107]\n",
    "sum1=0\n",
    "for item in label_data[check][1:107]:\n",
    "    sum1=sum1+ int(item)\n",
    "print 'sum =',sum1\n",
    "i=1\n",
    "for item in label_data[check][1:107]:\n",
    "    if item =='1' :\n",
    "        print i\n",
    "    i=i+1"
   ]
  },
  {
   "cell_type": "code",
   "execution_count": 90,
   "metadata": {
    "collapsed": true
   },
   "outputs": [],
   "source": [
    "label_data_3D = []\n",
    "#image_label = []\n",
    "for line in fileinput.input('/home/jayant/vision/PETA/3DPeS_atr.txt'):\n",
    "    label_data_3D.append((int(line[:-2].split(' ')[0]),line[:-2].split(' ')))\n",
    "\n",
    "label_data_3D.sort()\n",
    "#    image_label.append(line[:-2].split(' ')[0])"
   ]
  },
  {
   "cell_type": "code",
   "execution_count": 10,
   "metadata": {
    "collapsed": false
   },
   "outputs": [
    {
     "name": "stdout",
     "output_type": "stream",
     "text": [
      "['0', '0', '0', '0', '0', '0', '0', '1', '0', '1', '0', '0', '0', '0', '0', '1', '0', '0', '0', '0', '0', '0', '0', '0', '0', '0', '0', '0', '0', '0', '0', '0', '0', '0', '0', '0', '0', '1', '0', '0', '0', '0', '0', '1', '0', '0', '0', '0', '0', '0', '0', '0', '1', '1', '0', '0', '0', '0', '1', '0', '0', '0', '1', '1', '0', '0', '0', '0', '0', '0', '0', '0', '0', '0', '0', '0', '0', '0', '1', '0', '1', '0', '1', '0', '0', '1', '0', '0', '0', '0', '0', '0', '0', '0', '1', '0', '0', '0', '0', '0', '0', '0', '0', '0', '0', '0']\n"
     ]
    }
   ],
   "source": [
    "print label_data_3D[190][1][1:107]\n",
    "#Why does it accept greater than 107"
   ]
  },
  {
   "cell_type": "code",
   "execution_count": 91,
   "metadata": {
    "collapsed": true
   },
   "outputs": [],
   "source": [
    "label_data_GRID = []\n",
    "#image_label = []\n",
    "for line in fileinput.input('/home/jayant/vision/PETA/GRID_atr.txt'):\n",
    "    label_data_GRID.append(line[:-2].split(' '))\n",
    "#    image_label.append(line[:-2].split(' ')[0])"
   ]
  },
  {
   "cell_type": "code",
   "execution_count": 62,
   "metadata": {
    "collapsed": false
   },
   "outputs": [],
   "source": [
    "#for item in label_data_GRID:\n",
    "#    print item[1:107]"
   ]
  },
  {
   "cell_type": "code",
   "execution_count": 92,
   "metadata": {
    "collapsed": false
   },
   "outputs": [],
   "source": [
    "label = []"
   ]
  },
  {
   "cell_type": "code",
   "execution_count": 93,
   "metadata": {
    "collapsed": false
   },
   "outputs": [],
   "source": [
    "\n",
    "for item in LID_images_list:\n",
    "    label.append(int(item[0:4]))\n",
    "\n",
    "#for item in label:\n",
    "#    print item"
   ]
  },
  {
   "cell_type": "code",
   "execution_count": 13,
   "metadata": {
    "collapsed": false
   },
   "outputs": [],
   "source": [
    "#print int(label_data[0][0]) == 1"
   ]
  },
  {
   "cell_type": "code",
   "execution_count": 94,
   "metadata": {
    "collapsed": false
   },
   "outputs": [],
   "source": [
    "for item in D3_images_list:\n",
    "    label.append(item[0]+120)"
   ]
  },
  {
   "cell_type": "code",
   "execution_count": 38,
   "metadata": {
    "collapsed": false
   },
   "outputs": [
    {
     "name": "stdout",
     "output_type": "stream",
     "text": [
      "1489\n",
      "204_343_FRAME_432_RGB.jpg\n",
      "324\n"
     ]
    }
   ],
   "source": [
    "print len(label)\n",
    "check = 1488\n",
    "print image_data[check][0]\n",
    "print label[check]"
   ]
  },
  {
   "cell_type": "code",
   "execution_count": 95,
   "metadata": {
    "collapsed": true
   },
   "outputs": [],
   "source": [
    "for item in GR_images_list:\n",
    "    label.append(item[0] + 324)"
   ]
  },
  {
   "cell_type": "code",
   "execution_count": 47,
   "metadata": {
    "collapsed": false
   },
   "outputs": [
    {
     "name": "stdout",
     "output_type": "stream",
     "text": [
      "1739\n",
      "0125_5_28060_173_100_99_296.jpeg\n",
      "449\n"
     ]
    }
   ],
   "source": [
    "print len(label)\n",
    "check = 1738\n",
    "print image_data[check][0]\n",
    "print label[check]"
   ]
  },
  {
   "cell_type": "code",
   "execution_count": 96,
   "metadata": {
    "collapsed": true
   },
   "outputs": [],
   "source": [
    "attributes = []"
   ]
  },
  {
   "cell_type": "code",
   "execution_count": 97,
   "metadata": {
    "collapsed": false
   },
   "outputs": [],
   "source": [
    "i=0\n",
    "j=0\n",
    "k=0\n",
    "for lab in label:\n",
    "    if lab <= 120:\n",
    "        if int(label_data[i][0]) == lab:\n",
    "            attributes.append(label_data[i][1:107])\n",
    "        else:\n",
    "            i = i+1\n",
    "            attributes.append(label_data[i][1:107])\n",
    "    elif lab <= 324:\n",
    "        if int(label_data_3D[j][0]) == lab-120:\n",
    "            attributes.append(label_data_3D[j][1][1:107])\n",
    "        else:\n",
    "            j=j+1\n",
    "            attributes.append(label_data_3D[j][1][1:107])         \n",
    "    else:\n",
    "        if int(label_data_GRID[k][0]) == lab - 324:\n",
    "            attributes.append(label_data_GRID[k][1:107])\n",
    "        else:\n",
    "            k=k+1\n",
    "            attributes.append(label_data_GRID[k][1:107])\n",
    "\n",
    "        \n",
    "#for item in attributes:\n",
    "#    print item"
   ]
  },
  {
   "cell_type": "code",
   "execution_count": 98,
   "metadata": {
    "collapsed": false
   },
   "outputs": [
    {
     "name": "stdout",
     "output_type": "stream",
     "text": [
      "1739\n"
     ]
    }
   ],
   "source": [
    "print len(attributes)"
   ]
  },
  {
   "cell_type": "code",
   "execution_count": 99,
   "metadata": {
    "collapsed": false
   },
   "outputs": [
    {
     "name": "stdout",
     "output_type": "stream",
     "text": [
      "[[ 138.  137.  136. ...,   85.   84.   81.]\n",
      " [ 139.  138.  137. ...,   86.   85.   82.]\n",
      " [ 140.  138.  137. ...,   91.   89.   86.]\n",
      " ..., \n",
      " [  83.   84.   85. ...,   82.   82.   82.]\n",
      " [  82.   82.   83. ...,   82.   82.   82.]\n",
      " [  82.   83.   83. ...,   82.   82.   82.]]\n",
      "449\n",
      "['0', '1', '0', '1', '0', '0', '0', '0', '1', '0', '0', '1', '0', '0', '0', '1', '0', '0', '0', '0', '0', '0', '0', '1', '0', '0', '0', '0', '0', '0', '0', '0', '0', '0', '0', '0', '0', '0', '0', '0', '0', '0', '0', '0', '0', '0', '0', '0', '0', '0', '0', '0', '1', '1', '0', '0', '0', '0', '1', '0', '0', '0', '1', '1', '0', '0', '0', '1', '0', '0', '0', '0', '0', '0', '0', '0', '0', '0', '0', '0', '1', '0', '0', '0', '0', '1', '0', '0', '0', '0', '0', '0', '0', '0', '1', '0', '0', '0', '0', '0', '0', '0', '1', '0', '0', '0']\n"
     ]
    }
   ],
   "source": [
    "check = 1738\n",
    "print image_data[check][0]\n",
    "print label[check]\n",
    "print attributes[check]"
   ]
  },
  {
   "cell_type": "code",
   "execution_count": 100,
   "metadata": {
    "collapsed": false
   },
   "outputs": [],
   "source": [
    "label = np.array(label,dtype='f4')\n",
    "attributes = np.array(attributes,dtype='f4')"
   ]
  },
  {
   "cell_type": "code",
   "execution_count": 9,
   "metadata": {
    "collapsed": false
   },
   "outputs": [],
   "source": [
    "#for item in attributes:\n",
    "#    print item\n",
    "#print attributes[0][19]"
   ]
  },
  {
   "cell_type": "code",
   "execution_count": 101,
   "metadata": {
    "collapsed": false
   },
   "outputs": [],
   "source": [
    "h = h5py.File(source_folder +  \"i-LID_3D_GRID_alex.hdf5\", 'w' )\n",
    "dset1 = h.create_dataset(\"data\", data=image_data)\n",
    "dset2 = h.create_dataset(\"attributes\", data=attributes)\n",
    "dset3 = h.create_dataset(\"label\",  data=label)\n",
    "h.close()"
   ]
  }
 ],
 "metadata": {
  "kernelspec": {
   "display_name": "Python 2",
   "language": "python",
   "name": "python2"
  },
  "language_info": {
   "codemirror_mode": {
    "name": "ipython",
    "version": 2
   },
   "file_extension": ".py",
   "mimetype": "text/x-python",
   "name": "python",
   "nbconvert_exporter": "python",
   "pygments_lexer": "ipython2",
   "version": "2.7.6"
  }
 },
 "nbformat": 4,
 "nbformat_minor": 0
}
