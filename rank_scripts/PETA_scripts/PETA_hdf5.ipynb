{
 "cells": [
  {
   "cell_type": "code",
   "execution_count": 40,
   "metadata": {
    "collapsed": false
   },
   "outputs": [],
   "source": [
    "import numpy as np\n",
    "import matplotlib.pyplot as plt\n",
    "import math\n",
    "%matplotlib inline\n",
    "import Image\n",
    "# Make sure that caffe is on the python path:\n",
    "caffe_root = '../../' # Expected to be in rank_scripts/\n",
    "\n",
    "import sys\n",
    "sys.path.insert(0, caffe_root + 'python')\n",
    "\n",
    "import caffe\n",
    "import sys\n",
    "source_folder = '/home/jayant/vision/PETA/'\n",
    "\n",
    "import os\n",
    "import h5py\n",
    "import fileinput"
   ]
  },
  {
   "cell_type": "code",
   "execution_count": 86,
   "metadata": {
    "collapsed": false
   },
   "outputs": [
    {
     "name": "stdout",
     "output_type": "stream",
     "text": [
      "channel 0 : [[ 118.  122.  131. ...,  152.  157.  159.]\n",
      " [ 114.  118.  128. ...,  153.  159.  161.]\n",
      " [ 110.  114.  124. ...,  155.  162.  166.]\n",
      " ..., \n",
      " [ 160.  160.  161. ...,  155.  155.  155.]\n",
      " [ 160.  161.  162. ...,  156.  156.  156.]\n",
      " [ 161.  161.  162. ...,  156.  156.  156.]]\n",
      "channel 1:  [[ 111.  115.  124. ...,  146.  151.  153.]\n",
      " [ 107.  111.  121. ...,  147.  153.  155.]\n",
      " [ 103.  107.  117. ...,  147.  154.  158.]\n",
      " ..., \n",
      " [ 149.  149.  150. ...,  150.  150.  150.]\n",
      " [ 149.  150.  151. ...,  151.  151.  151.]\n",
      " [ 150.  150.  151. ...,  151.  151.  151.]]\n",
      "channel 2:  [[ 118.  122.  131. ...,  132.  137.  139.]\n",
      " [ 114.  118.  128. ...,  133.  139.  141.]\n",
      " [ 110.  114.  124. ...,  134.  141.  145.]\n",
      " ..., \n",
      " [ 145.  145.  146. ...,  147.  147.  147.]\n",
      " [ 145.  146.  147. ...,  148.  148.  148.]\n",
      " [ 146.  146.  147. ...,  148.  148.  148.]]\n"
     ]
    }
   ],
   "source": [
    "#check cell for image input\n",
    "#image_path = '/home/jayant/vision/PETA/i-LID_resize/archive/0001_001.jpg'\n",
    "image_path = '/home/jayant/vision/PETA/TownCentre/resize/1_2.jpg'\n",
    "#query_image = caffe.io.load_image(image_path)\n",
    "query_image = Image.open(image_path)\n",
    "A = np.array(query_image,dtype='f4')\n",
    "A = A.transpose((2,0,1))\n",
    "#print query_image[255][127][2]\n",
    "print 'channel 0 :',A[0]\n",
    "print 'channel 1: ',A[1]\n",
    "print 'channel 2: ',A[2]\n"
   ]
  },
  {
   "cell_type": "code",
   "execution_count": 48,
   "metadata": {
    "collapsed": true
   },
   "outputs": [],
   "source": [
    "image_data = []"
   ]
  },
  {
   "cell_type": "code",
   "execution_count": 49,
   "metadata": {
    "collapsed": false
   },
   "outputs": [],
   "source": [
    "folder = '/home/jayant/vision/PETA/i-LID/resize/'\n",
    "LID_images_list = os.listdir(folder)\n",
    "LID_images_list.sort()\n",
    "\n",
    "\n",
    "for image in LID_images_list:\n",
    "    #print image\n",
    "    pic = Image.open(folder+image)\n",
    "    #A = caffe.io.load_image(folder+image)\n",
    "    A = np.array(pic,dtype='f4')\n",
    "    A = A.transpose((2,0,1))\n",
    "    #B= np.array(A,dtype='f4')\n",
    "    image_data.append(A)\n",
    "    #image_data.append((image,A))"
   ]
  },
  {
   "cell_type": "code",
   "execution_count": 50,
   "metadata": {
    "collapsed": false
   },
   "outputs": [],
   "source": [
    "folder = '/home/jayant/vision/PETA/3DPeS/resize/'\n",
    "D_images_list = os.listdir(folder)\n",
    "D3_images_list= []\n",
    "for item in D_images_list:\n",
    "    D3_images_list.append((int(item.split('_')[0]),item))\n",
    "D3_images_list.sort()\n",
    "\n",
    "for item in D3_images_list:\n",
    "    image= item[1]\n",
    "    #print image\n",
    "    pic = Image.open(folder+image)\n",
    "    #A = caffe.io.load_image(folder+image)\n",
    "    A = np.array(pic,dtype='f4')\n",
    "    A = A.transpose((2,0,1))\n",
    "    #B= np.array(A,dtype='f4')\n",
    "    image_data.append(A)\n",
    "    #image_data.append((image,A))"
   ]
  },
  {
   "cell_type": "markdown",
   "metadata": {
    "collapsed": false
   },
   "source": [
    "folder = '/home/jayant/vision/PETA/GRID/alex_size/'\n",
    "GRID_images_list = os.listdir(folder)\n",
    "\n",
    "GR_images_list= []\n",
    "for item in GRID_images_list:\n",
    "    GR_images_list.append((int(item.split('_')[0]),item))\n",
    "GR_images_list.sort()\n",
    "\n",
    "GR_images_list[250:len(GRID_images_list)] = []  #taking only first 125 samples for training \n",
    "                                                #leaving the rest 125 for testing\n",
    "for item in GR_images_list:\n",
    "    image= item[1]\n",
    "    #print image\n",
    "    pic = Image.open(folder+image)\n",
    "    #A = caffe.io.load_image(folder+image)\n",
    "    A = np.array(pic,dtype='f4')\n",
    "    A = A.transpose((2,0,1))\n",
    "    #B= np.array(A,dtype='f4')\n",
    "    image_data.append(A)\n",
    "    #image_data.append((image,A))"
   ]
  },
  {
   "cell_type": "code",
   "execution_count": 51,
   "metadata": {
    "collapsed": true
   },
   "outputs": [],
   "source": [
    "folder = '/home/jayant/vision/PETA/TownCentre/resize/'\n",
    "Town_images_list = os.listdir(folder)\n",
    "\n",
    "TC_images_list= []\n",
    "for item in Town_images_list:\n",
    "    TC_images_list.append((int(item.split('_')[0]),item))\n",
    "TC_images_list.sort()\n",
    "\n",
    "#GR_images_list[250:len(GRID_images_list)] = []  #taking only first 125 samples for training \n",
    "                                                #leaving the rest 125 for testing\n",
    "for item in TC_images_list:\n",
    "    image= item[1]\n",
    "    #print image\n",
    "    pic = Image.open(folder+image)\n",
    "    #A = caffe.io.load_image(folder+image)\n",
    "    A = np.array(pic,dtype='f4')\n",
    "    A = A.transpose((2,0,1))\n",
    "    #B= np.array(A,dtype='f4')\n",
    "    image_data.append(A)\n",
    "    #image_data.append((image,A))"
   ]
  },
  {
   "cell_type": "code",
   "execution_count": 56,
   "metadata": {
    "collapsed": false
   },
   "outputs": [
    {
     "name": "stdout",
     "output_type": "stream",
     "text": [
      "5126\n",
      "[[[ 151.  151.  151. ...,  155.  155.  155.]\n",
      "  [ 151.  151.  151. ...,  155.  155.  155.]\n",
      "  [ 151.  151.  151. ...,  155.  155.  155.]\n",
      "  ..., \n",
      "  [ 161.  161.  161. ...,  165.  164.  164.]\n",
      "  [ 161.  161.  161. ...,  164.  164.  163.]\n",
      "  [ 161.  161.  161. ...,  164.  163.  163.]]\n",
      "\n",
      " [[ 137.  137.  137. ...,  142.  142.  142.]\n",
      "  [ 137.  137.  137. ...,  142.  142.  142.]\n",
      "  [ 137.  137.  137. ...,  142.  142.  142.]\n",
      "  ..., \n",
      "  [ 143.  143.  143. ...,  154.  153.  153.]\n",
      "  [ 143.  143.  143. ...,  153.  153.  152.]\n",
      "  [ 143.  143.  143. ...,  153.  152.  152.]]\n",
      "\n",
      " [[ 136.  136.  136. ...,  134.  134.  134.]\n",
      "  [ 136.  136.  136. ...,  134.  134.  134.]\n",
      "  [ 136.  136.  136. ...,  134.  134.  134.]\n",
      "  ..., \n",
      "  [ 143.  143.  143. ...,  152.  151.  151.]\n",
      "  [ 143.  143.  143. ...,  151.  151.  150.]\n",
      "  [ 143.  143.  143. ...,  151.  150.  150.]]]\n"
     ]
    }
   ],
   "source": [
    "#check image_data\n",
    "print len(image_data)\n",
    "print image_data[5125]"
   ]
  },
  {
   "cell_type": "code",
   "execution_count": 7,
   "metadata": {
    "collapsed": false
   },
   "outputs": [],
   "source": [
    "#for item in D3_images_list:\n",
    "#    print item[1]"
   ]
  },
  {
   "cell_type": "code",
   "execution_count": 57,
   "metadata": {
    "collapsed": false
   },
   "outputs": [],
   "source": [
    "label_data = []\n",
    "#image_label = []\n",
    "for line in fileinput.input('/home/jayant/vision/PETA/i-LID_atr.txt'):\n",
    "    label_data.append(line[:-2].split(' '))\n",
    "#    image_label.append(line[:-2].split(' ')[0])"
   ]
  },
  {
   "cell_type": "code",
   "execution_count": 58,
   "metadata": {
    "collapsed": false
   },
   "outputs": [
    {
     "name": "stdout",
     "output_type": "stream",
     "text": [
      "0100\n",
      "['0', '0', '0', '0', '0', '0', '1', '1', '0', '0', '0', '0', '0', '0', '0', '1', '0', '0', '0', '0', '0', '0', '0', '0', '0', '0', '0', '0', '0', '0', '0', '1', '1', '0', '0', '0', '0', '0', '0', '0', '0', '0', '0', '1', '0', '0', '0', '0', '0', '0', '0', '0', '1', '1', '0', '0', '0', '0', '1', '0', '0', '0', '0', '1', '0', '0', '0', '0', '0', '0', '0', '0', '0', '0', '0', '0', '1', '0', '0', '0', '1', '0', '1', '0', '0', '0', '0', '0', '0', '1', '0', '0', '0', '0', '1', '1', '0', '0', '0', '0', '0', '0', '0', '1', '0', '0']\n",
      "sum = 17\n",
      "7\n",
      "8\n",
      "16\n",
      "32\n",
      "33\n",
      "44\n",
      "53\n",
      "54\n",
      "59\n",
      "64\n",
      "77\n",
      "81\n",
      "83\n",
      "90\n",
      "95\n",
      "96\n",
      "104\n"
     ]
    }
   ],
   "source": [
    "check = 99\n",
    "print label_data[check][0]\n",
    "print label_data[check][1:107]\n",
    "sum1=0\n",
    "for item in label_data[check][1:107]:\n",
    "    sum1=sum1+ int(item)\n",
    "print 'sum =',sum1\n",
    "i=1\n",
    "for item in label_data[check][1:107]:\n",
    "    if item =='1' :\n",
    "        print i\n",
    "    i=i+1"
   ]
  },
  {
   "cell_type": "code",
   "execution_count": 59,
   "metadata": {
    "collapsed": true
   },
   "outputs": [],
   "source": [
    "label_data_3D = []\n",
    "#image_label = []\n",
    "for line in fileinput.input('/home/jayant/vision/PETA/3DPeS_atr.txt'):\n",
    "    label_data_3D.append((int(line[:-2].split(' ')[0]),line[:-2].split(' ')))\n",
    "\n",
    "label_data_3D.sort()\n",
    "#    image_label.append(line[:-2].split(' ')[0])"
   ]
  },
  {
   "cell_type": "code",
   "execution_count": 60,
   "metadata": {
    "collapsed": false
   },
   "outputs": [
    {
     "name": "stdout",
     "output_type": "stream",
     "text": [
      "['0', '0', '0', '0', '0', '0', '0', '1', '0', '1', '0', '0', '0', '0', '0', '1', '0', '0', '0', '0', '0', '0', '0', '0', '0', '0', '0', '0', '0', '0', '0', '0', '0', '0', '0', '0', '0', '1', '0', '0', '0', '0', '0', '1', '0', '0', '0', '0', '0', '0', '0', '0', '1', '1', '0', '0', '0', '0', '1', '0', '0', '0', '1', '1', '0', '0', '0', '0', '0', '0', '0', '0', '0', '0', '0', '0', '0', '0', '1', '0', '1', '0', '1', '0', '0', '1', '0', '0', '0', '0', '0', '0', '0', '0', '1', '0', '0', '0', '0', '0', '0', '0', '0', '0', '0', '0']\n"
     ]
    }
   ],
   "source": [
    "print label_data_3D[190][1][1:107]\n",
    "#Why does it accept greater than 107"
   ]
  },
  {
   "cell_type": "markdown",
   "metadata": {
    "collapsed": true
   },
   "source": [
    "label_data_GRID = []\n",
    "#image_label = []\n",
    "for line in fileinput.input('/home/jayant/vision/PETA/GRID_atr.txt'):\n",
    "    label_data_GRID.append(line[:-2].split(' '))\n",
    "#    image_label.append(line[:-2].split(' ')[0])"
   ]
  },
  {
   "cell_type": "code",
   "execution_count": 71,
   "metadata": {
    "collapsed": true
   },
   "outputs": [],
   "source": [
    "label_data_town=[]\n",
    "for line in fileinput.input('/home/jayant/vision/PETA/TownCentre_atr.txt'):\n",
    "    label_data_town.append(line[:-2].split(' '))"
   ]
  },
  {
   "cell_type": "code",
   "execution_count": 61,
   "metadata": {
    "collapsed": false
   },
   "outputs": [
    {
     "name": "stdout",
     "output_type": "stream",
     "text": [
      "['0125', '0', '1', '0', '1', '0', '0', '0', '0', '1', '0', '0', '1', '0', '0', '0', '1', '0', '0', '0', '0', '0', '0', '0', '1', '0', '0', '0', '0', '0', '0', '0', '0', '0', '0', '0', '0', '0', '0', '0', '0', '0', '0', '0', '0', '0', '0', '0', '0', '0', '0', '0', '0', '1', '1', '0', '0', '0', '0', '1', '0', '0', '0', '1', '1', '0', '0', '0', '1', '0', '0', '0', '0', '0', '0', '0', '0', '0', '0', '0', '0', '1', '0', '0', '0', '0', '1', '0', '0', '0', '0', '0', '0', '0', '0', '1', '0', '0', '0', '0', '0', '0', '0', '1', '0', '0', '0']\n",
      "sum = 16\n",
      "2\n",
      "4\n",
      "9\n",
      "12\n",
      "16\n",
      "24\n",
      "53\n",
      "54\n",
      "59\n",
      "63\n",
      "64\n",
      "68\n",
      "81\n",
      "86\n",
      "95\n",
      "103\n"
     ]
    }
   ],
   "source": [
    "#for item in label_data_GRID:\n",
    "#    print item[1:107]\n",
    "check = 124\n",
    "print label_data_GRID[check]\n",
    "sum1=0\n",
    "for item in label_data_GRID[check][1:107]:\n",
    "    sum1=sum1+ int(item)\n",
    "print 'sum =',sum1\n",
    "i=1\n",
    "for item in label_data_GRID[check][1:107]:\n",
    "    if item =='1' :\n",
    "        print i\n",
    "    i=i+1"
   ]
  },
  {
   "cell_type": "code",
   "execution_count": 62,
   "metadata": {
    "collapsed": false
   },
   "outputs": [],
   "source": [
    "label = []"
   ]
  },
  {
   "cell_type": "code",
   "execution_count": 63,
   "metadata": {
    "collapsed": false
   },
   "outputs": [],
   "source": [
    "\n",
    "for item in LID_images_list:\n",
    "    label.append(int(item[0:4]))\n",
    "\n",
    "#for item in label:\n",
    "#    print item"
   ]
  },
  {
   "cell_type": "code",
   "execution_count": 18,
   "metadata": {
    "collapsed": false
   },
   "outputs": [],
   "source": [
    "#print int(label_data[0][0]) == 1"
   ]
  },
  {
   "cell_type": "code",
   "execution_count": 64,
   "metadata": {
    "collapsed": false
   },
   "outputs": [],
   "source": [
    "for item in D3_images_list:\n",
    "    label.append(item[0]+120)"
   ]
  },
  {
   "cell_type": "code",
   "execution_count": 65,
   "metadata": {
    "collapsed": false
   },
   "outputs": [
    {
     "name": "stdout",
     "output_type": "stream",
     "text": [
      "1489\n",
      "[[ 127.  124.  120. ...,  157.  156.  155.]\n",
      " [ 132.  128.  121. ...,  160.  158.  157.]\n",
      " [ 136.  132.  125. ...,  158.  157.  157.]\n",
      " ..., \n",
      " [ 222.  219.  216. ...,   95.   95.   95.]\n",
      " [ 205.  203.  202. ...,   94.   94.   94.]\n",
      " [ 192.  190.  190. ...,   94.   94.   93.]]\n",
      "324\n"
     ]
    }
   ],
   "source": [
    "print len(label)\n",
    "check = 1488\n",
    "print image_data[check][0]\n",
    "print label[check]"
   ]
  },
  {
   "cell_type": "markdown",
   "metadata": {
    "collapsed": true
   },
   "source": [
    "for item in GR_images_list:\n",
    "    label.append(item[0] + 324)"
   ]
  },
  {
   "cell_type": "code",
   "execution_count": 67,
   "metadata": {
    "collapsed": true
   },
   "outputs": [],
   "source": [
    "for item in TC_images_list:\n",
    "    label.append(item[0]+324)"
   ]
  },
  {
   "cell_type": "code",
   "execution_count": 69,
   "metadata": {
    "collapsed": false
   },
   "outputs": [
    {
     "name": "stdout",
     "output_type": "stream",
     "text": [
      "5126\n",
      "[[ 151.  151.  151. ...,  155.  155.  155.]\n",
      " [ 151.  151.  151. ...,  155.  155.  155.]\n",
      " [ 151.  151.  151. ...,  155.  155.  155.]\n",
      " ..., \n",
      " [ 161.  161.  161. ...,  165.  164.  164.]\n",
      " [ 161.  161.  161. ...,  164.  164.  163.]\n",
      " [ 161.  161.  161. ...,  164.  163.  163.]]\n",
      "442\n"
     ]
    }
   ],
   "source": [
    "print len(label)\n",
    "check = 5125\n",
    "print image_data[check][0]\n",
    "print label[check]"
   ]
  },
  {
   "cell_type": "code",
   "execution_count": 70,
   "metadata": {
    "collapsed": true
   },
   "outputs": [],
   "source": [
    "attributes = []"
   ]
  },
  {
   "cell_type": "code",
   "execution_count": 72,
   "metadata": {
    "collapsed": false
   },
   "outputs": [],
   "source": [
    "i=0\n",
    "j=0\n",
    "k=0\n",
    "for lab in label:\n",
    "    if lab <= 120:\n",
    "        if int(label_data[i][0]) == lab:\n",
    "            attributes.append(label_data[i][1:107])\n",
    "        else:\n",
    "            i = i+1\n",
    "            attributes.append(label_data[i][1:107])\n",
    "    elif lab <= 324:\n",
    "        if int(label_data_3D[j][0]) == lab-120:\n",
    "            attributes.append(label_data_3D[j][1][1:107])\n",
    "        else:\n",
    "            j=j+1\n",
    "            attributes.append(label_data_3D[j][1][1:107])         \n",
    "    else:\n",
    "        if int(label_data_town[k][0]) == lab - 324:\n",
    "            attributes.append(label_data_town[k][1:107])\n",
    "        else:\n",
    "            k=k+1\n",
    "            attributes.append(label_data_town[k][1:107])\n",
    "\n",
    "        \n",
    "#for item in attributes:\n",
    "#    print item"
   ]
  },
  {
   "cell_type": "code",
   "execution_count": 73,
   "metadata": {
    "collapsed": false
   },
   "outputs": [
    {
     "name": "stdout",
     "output_type": "stream",
     "text": [
      "5126\n"
     ]
    }
   ],
   "source": [
    "print len(attributes)"
   ]
  },
  {
   "cell_type": "code",
   "execution_count": 75,
   "metadata": {
    "collapsed": false
   },
   "outputs": [
    {
     "name": "stdout",
     "output_type": "stream",
     "text": [
      "[[ 151.  151.  151. ...,  155.  155.  155.]\n",
      " [ 151.  151.  151. ...,  155.  155.  155.]\n",
      " [ 151.  151.  151. ...,  155.  155.  155.]\n",
      " ..., \n",
      " [ 161.  161.  161. ...,  165.  164.  164.]\n",
      " [ 161.  161.  161. ...,  164.  164.  163.]\n",
      " [ 161.  161.  161. ...,  164.  163.  163.]]\n",
      "442\n",
      "['0', '0', '0', '0', '1', '0', '0', '0', '0', '0', '0', '0', '0', '0', '0', '0', '0', '0', '0', '0', '0', '0', '0', '0', '0', '1', '0', '0', '0', '0', '0', '1', '1', '0', '0', '0', '0', '1', '0', '0', '0', '0', '0', '1', '0', '0', '0', '0', '0', '0', '0', '0', '1', '1', '0', '0', '0', '1', '1', '0', '0', '0', '0', '0', '0', '0', '0', '0', '0', '0', '0', '0', '0', '0', '0', '0', '1', '0', '0', '0', '1', '0', '0', '0', '0', '0', '0', '0', '0', '0', '0', '0', '0', '0', '0', '0', '0', '0', '0', '1', '0', '0', '1', '0', '0', '1']\n"
     ]
    }
   ],
   "source": [
    "check = 5125\n",
    "print image_data[check][0]\n",
    "print label[check]\n",
    "print attributes[check]"
   ]
  },
  {
   "cell_type": "code",
   "execution_count": 76,
   "metadata": {
    "collapsed": false
   },
   "outputs": [],
   "source": [
    "label = np.array(label,dtype='f4')\n",
    "attributes = np.array(attributes,dtype='f4')"
   ]
  },
  {
   "cell_type": "code",
   "execution_count": 28,
   "metadata": {
    "collapsed": false
   },
   "outputs": [],
   "source": [
    "#for item in attributes:\n",
    "#    print item\n",
    "#print attributes[0][19]"
   ]
  },
  {
   "cell_type": "code",
   "execution_count": 77,
   "metadata": {
    "collapsed": false
   },
   "outputs": [],
   "source": [
    "h = h5py.File(source_folder +  \"i-LID_3D_Town_128x256.hdf5\", 'w' )\n",
    "dset1 = h.create_dataset(\"data\", data=image_data)\n",
    "dset2 = h.create_dataset(\"attributes\", data=attributes)\n",
    "dset3 = h.create_dataset(\"label\",  data=label)\n",
    "h.close()"
   ]
  }
 ],
 "metadata": {
  "kernelspec": {
   "display_name": "Python 2",
   "language": "python",
   "name": "python2"
  },
  "language_info": {
   "codemirror_mode": {
    "name": "ipython",
    "version": 2
   },
   "file_extension": ".py",
   "mimetype": "text/x-python",
   "name": "python",
   "nbconvert_exporter": "python",
   "pygments_lexer": "ipython2",
   "version": "2.7.6"
  }
 },
 "nbformat": 4,
 "nbformat_minor": 0
}
