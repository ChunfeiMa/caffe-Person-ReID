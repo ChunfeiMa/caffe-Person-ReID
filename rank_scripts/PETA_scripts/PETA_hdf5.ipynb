{
 "cells": [
  {
   "cell_type": "code",
   "execution_count": 208,
   "metadata": {
    "collapsed": false
   },
   "outputs": [],
   "source": [
    "import numpy as np\n",
    "import matplotlib.pyplot as plt\n",
    "import math\n",
    "%matplotlib inline\n",
    "import Image\n",
    "# Make sure that caffe is on the python path:\n",
    "caffe_root = '../../' # Expected to be in rank_scripts/\n",
    "\n",
    "import sys\n",
    "sys.path.insert(0, caffe_root + 'python')\n",
    "\n",
    "import caffe\n",
    "import sys\n",
    "source_folder = '/home/jayant/vision/PETA/'\n",
    "\n",
    "import os\n",
    "import h5py\n",
    "import fileinput"
   ]
  },
  {
   "cell_type": "code",
   "execution_count": 209,
   "metadata": {
    "collapsed": false
   },
   "outputs": [
    {
     "name": "stdout",
     "output_type": "stream",
     "text": [
      "227.0\n"
     ]
    }
   ],
   "source": [
    "#check cell for image input\n",
    "#image_path = '/home/jayant/vision/PETA/i-LID_resize/archive/0001_001.jpg'\n",
    "image_path = '/home/jayant/vision/PETA/3DPeS/alex_size/1_1_FRAME_12_RGB.jpg'\n",
    "#query_image = caffe.io.load_image(image_path)\n",
    "query_image = Image.open(image_path)\n",
    "A = np.array(query_image,dtype='f4')\n",
    "A = A.transpose((2,0,1))\n",
    "#print query_image[255][127][2]\n",
    "print A[1][150][52]"
   ]
  },
  {
   "cell_type": "code",
   "execution_count": 210,
   "metadata": {
    "collapsed": true
   },
   "outputs": [],
   "source": [
    "image_data = []"
   ]
  },
  {
   "cell_type": "code",
   "execution_count": 211,
   "metadata": {
    "collapsed": false
   },
   "outputs": [],
   "source": [
    "folder = '/home/jayant/vision/PETA/i-LID_alex/archive/'\n",
    "LID_images_list = os.listdir(folder)\n",
    "LID_images_list.sort()\n",
    "\n",
    "\n",
    "for image in LID_images_list:\n",
    "    #print image\n",
    "    pic = Image.open(folder+image)\n",
    "    #A = caffe.io.load_image(folder+image)\n",
    "    A = np.array(pic,dtype='f4')\n",
    "    A = A.transpose((2,0,1))\n",
    "    #B= np.array(A,dtype='f4')\n",
    "    image_data.append(A)"
   ]
  },
  {
   "cell_type": "code",
   "execution_count": 212,
   "metadata": {
    "collapsed": false
   },
   "outputs": [],
   "source": [
    "folder = '/home/jayant/vision/PETA/3DPeS/alex_size/'\n",
    "D_images_list = os.listdir(folder)\n",
    "D3_images_list= []\n",
    "for item in D_images_list:\n",
    "    D3_images_list.append((int(item.split('_')[0]),item))\n",
    "D3_images_list.sort()\n",
    "\n",
    "for item in D3_images_list:\n",
    "    image= item[1]\n",
    "    #print image\n",
    "    pic = Image.open(folder+image)\n",
    "    #A = caffe.io.load_image(folder+image)\n",
    "    A = np.array(pic,dtype='f4')\n",
    "    A = A.transpose((2,0,1))\n",
    "    #B= np.array(A,dtype='f4')\n",
    "    image_data.append(A)"
   ]
  },
  {
   "cell_type": "code",
   "execution_count": 213,
   "metadata": {
    "collapsed": false
   },
   "outputs": [
    {
     "name": "stdout",
     "output_type": "stream",
     "text": [
      "[[[ 126.  125.  123. ...,  155.  155.  154.]\n",
      "  [ 133.  130.  129. ...,  157.  157.  157.]\n",
      "  [ 136.  134.  132. ...,  155.  155.  155.]\n",
      "  ..., \n",
      "  [ 224.  223.  222. ...,   95.   95.   95.]\n",
      "  [ 209.  209.  209. ...,   94.   94.   94.]\n",
      "  [ 192.  192.  192. ...,   93.   93.   93.]]\n",
      "\n",
      " [[ 131.  130.  128. ...,  156.  156.  155.]\n",
      "  [ 136.  135.  131. ...,  158.  158.  158.]\n",
      "  [ 137.  137.  133. ...,  156.  156.  156.]\n",
      "  ..., \n",
      "  [ 173.  172.  171. ...,   92.   92.   92.]\n",
      "  [ 156.  156.  156. ...,   91.   91.   91.]\n",
      "  [ 139.  139.  139. ...,   90.   90.   90.]]\n",
      "\n",
      " [[ 124.  123.  122. ...,  151.  151.  150.]\n",
      "  [ 129.  128.  126. ...,  153.  153.  153.]\n",
      "  [ 131.  130.  127. ...,  151.  151.  151.]\n",
      "  ..., \n",
      "  [ 118.  117.  116. ...,   87.   87.   87.]\n",
      "  [ 102.  102.  102. ...,   86.   86.   86.]\n",
      "  [  85.   85.   85. ...,   85.   85.   85.]]]\n"
     ]
    }
   ],
   "source": [
    "#check image_data\n",
    "print image_data[1488]"
   ]
  },
  {
   "cell_type": "code",
   "execution_count": 214,
   "metadata": {
    "collapsed": false
   },
   "outputs": [],
   "source": [
    "#for item in D3_images_list:\n",
    "#    print item[1]"
   ]
  },
  {
   "cell_type": "code",
   "execution_count": 215,
   "metadata": {
    "collapsed": false
   },
   "outputs": [],
   "source": [
    "label_data = []\n",
    "#image_label = []\n",
    "for line in fileinput.input('/home/jayant/vision/PETA/i-LID_atr.txt'):\n",
    "    label_data.append(line[:-2].split(' '))\n",
    "#    image_label.append(line[:-2].split(' ')[0])"
   ]
  },
  {
   "cell_type": "code",
   "execution_count": 216,
   "metadata": {
    "collapsed": true
   },
   "outputs": [],
   "source": [
    "label_data_3D = []\n",
    "#image_label = []\n",
    "for line in fileinput.input('/home/jayant/vision/PETA/3DPeS_atr.txt'):\n",
    "    label_data_3D.append((int(line[:-2].split(' ')[0]),line[:-2].split(' ')))\n",
    "\n",
    "label_data_3D.sort()\n",
    "#    image_label.append(line[:-2].split(' ')[0])"
   ]
  },
  {
   "cell_type": "code",
   "execution_count": 217,
   "metadata": {
    "collapsed": false
   },
   "outputs": [
    {
     "name": "stdout",
     "output_type": "stream",
     "text": [
      "['0', '0', '0', '0', '0', '0', '0', '1', '0', '1', '0', '0', '0', '0', '0', '1', '0', '0', '0', '0', '0', '0', '0', '0', '0', '0', '0', '0', '0', '0', '0', '0', '0', '0', '0', '0', '0', '1', '0', '0', '0', '0', '0', '1', '0', '0', '0', '0', '0', '0', '0', '0', '1', '1', '0', '0', '0', '0', '1', '0', '0', '0', '1', '1', '0', '0', '0', '0', '0', '0', '0', '0', '0', '0', '0', '0', '0', '0', '1', '0', '1', '0', '1', '0', '0', '1', '0', '0', '0', '0', '0', '0', '0', '0', '1', '0', '0', '0', '0', '0', '0', '0', '0', '0', '0', '0']\n"
     ]
    }
   ],
   "source": [
    "print label_data_3D[190][1][1:107]\n",
    "#Why does it accept greater than 107"
   ]
  },
  {
   "cell_type": "code",
   "execution_count": 218,
   "metadata": {
    "collapsed": false
   },
   "outputs": [],
   "source": [
    "label = []"
   ]
  },
  {
   "cell_type": "code",
   "execution_count": 219,
   "metadata": {
    "collapsed": false
   },
   "outputs": [],
   "source": [
    "\n",
    "for item in LID_images_list:\n",
    "    label.append(int(item[0:4]))\n",
    "\n",
    "#for item in label:\n",
    "#    print item"
   ]
  },
  {
   "cell_type": "code",
   "execution_count": 187,
   "metadata": {
    "collapsed": false
   },
   "outputs": [],
   "source": [
    "#print int(label_data[0][0]) == 1"
   ]
  },
  {
   "cell_type": "code",
   "execution_count": 220,
   "metadata": {
    "collapsed": false
   },
   "outputs": [],
   "source": [
    "for item in D3_images_list:\n",
    "    label.append(item[0]+120)"
   ]
  },
  {
   "cell_type": "code",
   "execution_count": 221,
   "metadata": {
    "collapsed": false
   },
   "outputs": [
    {
     "name": "stdout",
     "output_type": "stream",
     "text": [
      "1489\n"
     ]
    }
   ],
   "source": [
    "print len(label)\n",
    "#check = 1488\n",
    "#print image_data[check][0]\n",
    "#print label[check]"
   ]
  },
  {
   "cell_type": "code",
   "execution_count": 222,
   "metadata": {
    "collapsed": true
   },
   "outputs": [],
   "source": [
    "attributes = []"
   ]
  },
  {
   "cell_type": "code",
   "execution_count": 223,
   "metadata": {
    "collapsed": false
   },
   "outputs": [],
   "source": [
    "i=0\n",
    "j=0\n",
    "for lab in label:\n",
    "    if lab <= 120:\n",
    "        if int(label_data[i][0]) == lab:\n",
    "            attributes.append(label_data[i][1:107])\n",
    "        else:\n",
    "            i = i+1\n",
    "            attributes.append(label_data[i][1:107])\n",
    "    else:\n",
    "        if int(label_data_3D[j][0]) == lab-120:\n",
    "            attributes.append(label_data_3D[j][1][1:107])\n",
    "        else:\n",
    "            j=j+1\n",
    "            attributes.append(label_data_3D[j][1][1:107])         \n",
    "\n",
    "        \n",
    "#for item in attributes:\n",
    "#    print item"
   ]
  },
  {
   "cell_type": "code",
   "execution_count": 224,
   "metadata": {
    "collapsed": false
   },
   "outputs": [
    {
     "name": "stdout",
     "output_type": "stream",
     "text": [
      "1489\n"
     ]
    }
   ],
   "source": [
    "print len(attributes)"
   ]
  },
  {
   "cell_type": "code",
   "execution_count": 225,
   "metadata": {
    "collapsed": false
   },
   "outputs": [
    {
     "name": "stdout",
     "output_type": "stream",
     "text": [
      "[[ 126.  125.  123. ...,  155.  155.  154.]\n",
      " [ 133.  130.  129. ...,  157.  157.  157.]\n",
      " [ 136.  134.  132. ...,  155.  155.  155.]\n",
      " ..., \n",
      " [ 224.  223.  222. ...,   95.   95.   95.]\n",
      " [ 209.  209.  209. ...,   94.   94.   94.]\n",
      " [ 192.  192.  192. ...,   93.   93.   93.]]\n",
      "324\n",
      "['0', '0', '0', '0', '0', '0', '1', '1', '0', '0', '0', '1', '0', '0', '0', '1', '0', '0', '0', '0', '0', '0', '0', '0', '0', '0', '0', '0', '0', '0', '0', '0', '0', '0', '0', '0', '0', '0', '0', '0', '0', '0', '0', '1', '0', '0', '0', '0', '0', '0', '0', '0', '1', '1', '0', '0', '0', '0', '1', '0', '0', '0', '1', '1', '0', '0', '0', '0', '0', '0', '0', '0', '0', '0', '0', '0', '1', '0', '0', '0', '0', '0', '1', '0', '0', '1', '0', '0', '1', '1', '0', '0', '0', '0', '1', '0', '0', '0', '0', '0', '0', '0', '0', '0', '0', '0']\n"
     ]
    }
   ],
   "source": [
    "check = 1488\n",
    "print image_data[check][0]\n",
    "print label[check]\n",
    "print attributes[check]"
   ]
  },
  {
   "cell_type": "code",
   "execution_count": 226,
   "metadata": {
    "collapsed": false
   },
   "outputs": [],
   "source": [
    "label = np.array(label,dtype='f4')\n",
    "attributes = np.array(attributes,dtype='f4')"
   ]
  },
  {
   "cell_type": "code",
   "execution_count": 9,
   "metadata": {
    "collapsed": false
   },
   "outputs": [],
   "source": [
    "#for item in attributes:\n",
    "#    print item\n",
    "#print attributes[0][19]"
   ]
  },
  {
   "cell_type": "code",
   "execution_count": 227,
   "metadata": {
    "collapsed": false
   },
   "outputs": [],
   "source": [
    "h = h5py.File(source_folder +  \"i-LID_3D_alex.hdf5\", 'w' )\n",
    "dset1 = h.create_dataset(\"data\", data=image_data)\n",
    "dset2 = h.create_dataset(\"attributes\", data=attributes)\n",
    "dset3 = h.create_dataset(\"label\",  data=label)\n",
    "h.close()"
   ]
  }
 ],
 "metadata": {
  "kernelspec": {
   "display_name": "Python 2",
   "language": "python",
   "name": "python2"
  },
  "language_info": {
   "codemirror_mode": {
    "name": "ipython",
    "version": 2
   },
   "file_extension": ".py",
   "mimetype": "text/x-python",
   "name": "python",
   "nbconvert_exporter": "python",
   "pygments_lexer": "ipython2",
   "version": "2.7.6"
  }
 },
 "nbformat": 4,
 "nbformat_minor": 0
}
