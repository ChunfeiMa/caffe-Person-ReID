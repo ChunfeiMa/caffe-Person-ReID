{
 "cells": [
  {
   "cell_type": "code",
   "execution_count": 107,
   "metadata": {
    "collapsed": true
   },
   "outputs": [],
   "source": [
    "import sys\n",
    "import fileinput\n",
    "import matplotlib\n",
    "import matplotlib.pyplot as plt\n",
    "%matplotlib inline \n",
    "import numpy as np\n",
    "\n",
    "data = []\n",
    "\n",
    "for line in fileinput.input('VIPeR/archive/Label.txt'):\n",
    "    data.append(line[:-2].split(' '))"
   ]
  },
  {
   "cell_type": "code",
   "execution_count": 108,
   "metadata": {
    "collapsed": false
   },
   "outputs": [],
   "source": [
    "atr = {}\n",
    "\n",
    "for item in data:\n",
    "    for i in range(1,len(item)):\n",
    "        if item[i] in atr:\n",
    "            atr[item[i]] = atr[item[i]] + 1 \n",
    "        else:\n",
    "            atr[item[i]] = 1\n",
    "        "
   ]
  },
  {
   "cell_type": "code",
   "execution_count": 55,
   "metadata": {
    "collapsed": true
   },
   "outputs": [],
   "source": [
    "###### Not each time\n",
    "global_atr = {}"
   ]
  },
  {
   "cell_type": "code",
   "execution_count": 109,
   "metadata": {
    "collapsed": true
   },
   "outputs": [],
   "source": [
    "for j in atr:\n",
    "    global_atr[j] = 0"
   ]
  },
  {
   "cell_type": "code",
   "execution_count": 111,
   "metadata": {
    "collapsed": false
   },
   "outputs": [
    {
     "name": "stdout",
     "output_type": "stream",
     "text": [
      "106\n",
      "{'upperBodySweater': 0, 'upperBodyWhite': 0, 'lowerBodyBrown': 0, 'personalLess30': 0, 'hairBrown': 0, 'lowerBodyLogo': 0, 'lowerBodyTrousers': 0, 'footwearShoes': 0, 'carryingNothing': 0, 'upperBodyBlue': 0, 'upperBodyBrown': 0, 'upperBodyLogo': 0, 'hairWhite': 0, 'hairRed': 0, 'footwearPurple': 0, 'personalMale': 0, 'accessoryHat': 0, 'upperBodyRed': 0, 'lowerBodyHotPants': 0, 'carryingFolder': 0, 'lowerBodyThinStripes': 0, 'hairPurple': 0, 'upperBodyThinStripes': 0, 'lowerBodyShorts': 0, 'accessoryHeadphone': 0, 'footwearLeatherShoes': 0, 'upperBodyPurple': 0, 'footwearYellow': 0, 'upperBodyGrey': 0, 'lowerBodyOrange': 0, 'accessorySunglasses': 0, 'upperBodyLongSleeve': 0, 'upperBodyOther': 0, 'accessoryFaceMask': 0, 'footwearBoots': 0, 'upperBodyNoSleeve': 0, 'footwearBlue': 0, 'lowerBodyJeans': 0, 'upperBodyOrange': 0, 'upperBodyJacket': 0, 'hairGreen': 0, 'footwearPink': 0, 'lowerBodyShortSkirt': 0, 'personalLess45': 0, 'upperBodyFormal': 0, 'carryingUmbrella': 0, 'upperBodyGreen': 0, 'lowerBodyYellow': 0, 'carryingBabyBuggy': 0, 'footwearRed': 0, 'lowerBodyLongSkirt': 0, 'hairYellow': 0, 'footwearBlack': 0, 'upperBodyCasual': 0, 'lowerBodyGreen': 0, 'upperBodyYellow': 0, 'footwearSandals': 0, 'hairLong': 0, 'accessoryNothing': 0, 'upperBodyThickStripes': 0, 'upperBodyPlaid': 0, 'carryingPlasticBags': 0, 'upperBodyShortSleeve': 0, 'hairShort': 0, 'lowerBodyWhite': 0, 'accessoryKerchief': 0, 'carryingSuitcase': 0, 'footwearSneakers': 0, 'footwearGrey': 0, 'upperBodyVNeck': 0, 'hairGrey': 0, 'hairOrange': 0, 'personalLess60': 0, 'accessoryHairBand': 0, 'lowerBodySuits': 0, 'upperBodySuit': 0, 'upperBodyBlack': 0, 'footwearWhite': 0, 'lowerBodyGrey': 0, 'carryingLuggageCase': 0, 'lowerBodyCasual': 0, 'footwearGreen': 0, 'carryingOther': 0, 'lowerBodyPurple': 0, 'footwearOrange': 0, 'upperBodyTshirt': 0, 'lowerBodyRed': 0, 'lowerBodyPlaid': 0, 'lowerBodyFormal': 0, 'lowerBodyBlack': 0, 'personalLess15': 0, 'upperBodyPink': 0, 'lowerBodyPink': 0, 'personalLarger60': 0, 'hairBlack': 0, 'carryingBackpack': 0, 'footwearStocking': 0, 'footwearBrown': 0, 'hairBald': 0, 'personalFemale': 0, 'accessoryMuffler': 0, 'accessoryShawl': 0, 'lowerBodyBlue': 0, 'carryingShoppingTro': 0, 'lowerBodyCapri': 0, 'carryingMessengerBag': 0}\n",
      "upperBodySweater\n",
      "upperBodyWhite\n",
      "lowerBodyBrown\n",
      "personalLess30\n",
      "hairBrown\n",
      "lowerBodyLogo\n",
      "lowerBodyTrousers\n",
      "footwearShoes\n",
      "carryingNothing\n",
      "upperBodyBlue\n",
      "upperBodyBrown\n",
      "upperBodyLogo\n",
      "hairWhite\n",
      "hairRed\n",
      "footwearPurple\n",
      "personalMale\n",
      "accessoryHat\n",
      "upperBodyRed\n",
      "lowerBodyHotPants\n",
      "carryingFolder\n",
      "lowerBodyThinStripes\n",
      "hairPurple\n",
      "upperBodyThinStripes\n",
      "lowerBodyShorts\n",
      "accessoryHeadphone\n",
      "footwearLeatherShoes\n",
      "upperBodyPurple\n",
      "footwearYellow\n",
      "upperBodyGrey\n",
      "lowerBodyOrange\n",
      "accessorySunglasses\n",
      "upperBodyLongSleeve\n",
      "upperBodyOther\n",
      "accessoryFaceMask\n",
      "footwearBoots\n",
      "upperBodyNoSleeve\n",
      "footwearBlue\n",
      "lowerBodyJeans\n",
      "upperBodyOrange\n",
      "upperBodyJacket\n",
      "hairGreen\n",
      "footwearPink\n",
      "lowerBodyShortSkirt\n",
      "personalLess45\n",
      "upperBodyFormal\n",
      "carryingUmbrella\n",
      "upperBodyGreen\n",
      "lowerBodyYellow\n",
      "carryingBabyBuggy\n",
      "footwearRed\n",
      "lowerBodyLongSkirt\n",
      "hairYellow\n",
      "footwearBlack\n",
      "upperBodyCasual\n",
      "lowerBodyGreen\n",
      "upperBodyYellow\n",
      "footwearSandals\n",
      "hairLong\n",
      "accessoryNothing\n",
      "upperBodyThickStripes\n",
      "upperBodyPlaid\n",
      "carryingPlasticBags\n",
      "upperBodyShortSleeve\n",
      "hairShort\n",
      "lowerBodyWhite\n",
      "accessoryKerchief\n",
      "carryingSuitcase\n",
      "footwearSneakers\n",
      "footwearGrey\n",
      "upperBodyVNeck\n",
      "hairGrey\n",
      "hairOrange\n",
      "personalLess60\n",
      "accessoryHairBand\n",
      "lowerBodySuits\n",
      "upperBodySuit\n",
      "upperBodyBlack\n",
      "footwearWhite\n",
      "lowerBodyGrey\n",
      "carryingLuggageCase\n",
      "lowerBodyCasual\n",
      "footwearGreen\n",
      "carryingOther\n",
      "lowerBodyPurple\n",
      "footwearOrange\n",
      "upperBodyTshirt\n",
      "lowerBodyRed\n",
      "lowerBodyPlaid\n",
      "lowerBodyFormal\n",
      "lowerBodyBlack\n",
      "personalLess15\n",
      "upperBodyPink\n",
      "lowerBodyPink\n",
      "personalLarger60\n",
      "hairBlack\n",
      "carryingBackpack\n",
      "footwearStocking\n",
      "footwearBrown\n",
      "hairBald\n",
      "personalFemale\n",
      "accessoryMuffler\n",
      "accessoryShawl\n",
      "lowerBodyBlue\n",
      "carryingShoppingTro\n",
      "lowerBodyCapri\n",
      "carryingMessengerBag\n"
     ]
    }
   ],
   "source": [
    "print len(global_atr)\n",
    "print global_atr\n",
    "\n",
    "for j in global_atr:\n",
    "    print j"
   ]
  },
  {
   "cell_type": "code",
   "execution_count": 114,
   "metadata": {
    "collapsed": false
   },
   "outputs": [],
   "source": [
    "file1= open('attributes.txt','w')\n",
    "\n",
    "for j in global_atr:\n",
    "    file1.write(j)\n",
    "    file1.write('\\n')\n",
    "    \n",
    "file1.close()"
   ]
  }
 ],
 "metadata": {
  "kernelspec": {
   "display_name": "Python 2",
   "language": "python",
   "name": "python2"
  },
  "language_info": {
   "codemirror_mode": {
    "name": "ipython",
    "version": 2
   },
   "file_extension": ".py",
   "mimetype": "text/x-python",
   "name": "python",
   "nbconvert_exporter": "python",
   "pygments_lexer": "ipython2",
   "version": "2.7.6"
  }
 },
 "nbformat": 4,
 "nbformat_minor": 0
}
