{
 "cells": [
  {
   "cell_type": "code",
   "execution_count": 2,
   "metadata": {
    "collapsed": false
   },
   "outputs": [],
   "source": [
    "import numpy as np\n",
    "import matplotlib.pyplot as plt\n",
    "import math\n",
    "%matplotlib inline\n",
    "import Image\n",
    "\n",
    "# Make sure that caffe is on the python path:\n",
    "#caffe_root = '../' # Expected to be in rank_scripts/\n",
    "\n",
    "import sys\n",
    "#sys.path.insert(0, caffe_root + 'python')\n",
    "\n",
    "import os\n",
    "import h5py\n",
    "import sys\n",
    "import fileinput"
   ]
  },
  {
   "cell_type": "code",
   "execution_count": 3,
   "metadata": {
    "collapsed": false
   },
   "outputs": [
    {
     "name": "stdout",
     "output_type": "stream",
     "text": [
      "187\n"
     ]
    }
   ],
   "source": [
    "pic = Image.open('/home/jayant/vision/PETA/i-LID_resize/archive/0001_001.jpg')\n",
    "A = np.array(pic)\n",
    "print A[255][127][2]"
   ]
  },
  {
   "cell_type": "code",
   "execution_count": 4,
   "metadata": {
    "collapsed": false
   },
   "outputs": [
    {
     "name": "stdout",
     "output_type": "stream",
     "text": [
      "0001_001.jpg\n",
      "0001_002.jpg\n",
      "0001_003.jpg\n",
      "0001_004.jpg\n",
      "0002_001.jpg\n",
      "0002_002.jpg\n",
      "0002_003.jpg\n",
      "0002_004.jpg\n",
      "0003_001.jpg\n",
      "0003_002.jpg\n"
     ]
    }
   ],
   "source": [
    "folder = '/home/jayant/vision/PETA/check/'\n",
    "images_list = os.listdir(folder)\n",
    "images_list.sort()\n",
    "image_data = []\n",
    "\n",
    "for image in images_list:\n",
    "    print image\n",
    "    pic = Image.open(folder+image)\n",
    "    A = np.array(pic)\n",
    "    image_data.append(A)"
   ]
  },
  {
   "cell_type": "code",
   "execution_count": 5,
   "metadata": {
    "collapsed": false
   },
   "outputs": [
    {
     "name": "stdout",
     "output_type": "stream",
     "text": [
      "187\n"
     ]
    }
   ],
   "source": [
    "print image_data[0][255][127][2]"
   ]
  },
  {
   "cell_type": "code",
   "execution_count": 20,
   "metadata": {
    "collapsed": false
   },
   "outputs": [],
   "source": [
    "label_data = []\n",
    "image_label = []\n",
    "for line in fileinput.input('/home/jayant/vision/PETA/i-LID_atr.txt'):\n",
    "    label_data.append(line[:-2].split(' ')[1:107])\n",
    "    image_label.append(line[:-2].split(' ')[0])"
   ]
  },
  {
   "cell_type": "code",
   "execution_count": 22,
   "metadata": {
    "collapsed": false
   },
   "outputs": [
    {
     "name": "stdout",
     "output_type": "stream",
     "text": [
      "0\n",
      "0120\n"
     ]
    }
   ],
   "source": [
    "print label_data[119][105]\n",
    "print image_label[119]\n",
    "#for item in label_data:\n",
    "    #print item"
   ]
  },
  {
   "cell_type": "code",
   "execution_count": 23,
   "metadata": {
    "collapsed": false
   },
   "outputs": [
    {
     "name": "stdout",
     "output_type": "stream",
     "text": [
      "106\n"
     ]
    }
   ],
   "source": [
    "attributes = label_data[0:10]\n",
    "label = image_label[1:10]\n",
    "print len(attributes[9])"
   ]
  },
  {
   "cell_type": "code",
   "execution_count": 24,
   "metadata": {
    "collapsed": true
   },
   "outputs": [],
   "source": [
    "h = h5py.File(\"test.hdf5\", 'w' )\n",
    "dset1 = h.create_dataset(\"data\", data=image_data)\n",
    "dset2 = h.create_dataset(\"attributes\", data=attributes)\n",
    "dset3 = h.create_dataset(\"label\", data=label)\n",
    "h.close()"
   ]
  }
 ],
 "metadata": {
  "kernelspec": {
   "display_name": "Python 2",
   "language": "python",
   "name": "python2"
  },
  "language_info": {
   "codemirror_mode": {
    "name": "ipython",
    "version": 2
   },
   "file_extension": ".py",
   "mimetype": "text/x-python",
   "name": "python",
   "nbconvert_exporter": "python",
   "pygments_lexer": "ipython2",
   "version": "2.7.6"
  }
 },
 "nbformat": 4,
 "nbformat_minor": 0
}
