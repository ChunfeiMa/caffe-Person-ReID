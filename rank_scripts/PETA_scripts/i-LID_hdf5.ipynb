{
 "cells": [
  {
   "cell_type": "code",
   "execution_count": 10,
   "metadata": {
    "collapsed": false
   },
   "outputs": [],
   "source": [
    "import numpy as np\n",
    "import matplotlib.pyplot as plt\n",
    "import math\n",
    "%matplotlib inline\n",
    "import Image\n",
    "\n",
    "# Make sure that caffe is on the python path:\n",
    "#caffe_root = '../' # Expected to be in rank_scripts/\n",
    "\n",
    "import sys\n",
    "sys.path.insert(0, '/home/jayant/vision/PETA/')\n",
    "source_folder = '/home/jayant/vision/PETA/'\n",
    "\n",
    "import os\n",
    "import h5py\n",
    "import sys\n",
    "import fileinput"
   ]
  },
  {
   "cell_type": "code",
   "execution_count": 2,
   "metadata": {
    "collapsed": false
   },
   "outputs": [
    {
     "name": "stdout",
     "output_type": "stream",
     "text": [
      "187\n"
     ]
    }
   ],
   "source": [
    "pic = Image.open('/home/jayant/vision/PETA/i-LID_resize/archive/0001_001.jpg')\n",
    "A = np.array(pic)\n",
    "print A[255][127][2]"
   ]
  },
  {
   "cell_type": "code",
   "execution_count": 31,
   "metadata": {
    "collapsed": false
   },
   "outputs": [],
   "source": [
    "folder = '/home/jayant/vision/PETA/i-LID_resize/archive/'\n",
    "images_list = os.listdir(folder)\n",
    "images_list.sort()\n",
    "image_data = []\n",
    "\n",
    "for image in images_list:\n",
    "    #print image\n",
    "    pic = Image.open(folder+image)\n",
    "    A = np.array(pic)\n",
    "    image_data.append(A)"
   ]
  },
  {
   "cell_type": "code",
   "execution_count": 20,
   "metadata": {
    "collapsed": false
   },
   "outputs": [
    {
     "name": "stdout",
     "output_type": "stream",
     "text": [
      "201\n"
     ]
    }
   ],
   "source": [
    "print image_data[476][255][127][2]"
   ]
  },
  {
   "cell_type": "code",
   "execution_count": 38,
   "metadata": {
    "collapsed": false
   },
   "outputs": [],
   "source": [
    "label_data = []\n",
    "#image_label = []\n",
    "for line in fileinput.input('/home/jayant/vision/PETA/i-LID_atr.txt'):\n",
    "    label_data.append(line[:-2].split(' '))\n",
    "#    image_label.append(line[:-2].split(' ')[0])"
   ]
  },
  {
   "cell_type": "code",
   "execution_count": 35,
   "metadata": {
    "collapsed": false
   },
   "outputs": [],
   "source": [
    "label = []\n",
    "for item in images_list:\n",
    "    label.append(item[0:4])\n",
    "\n",
    "#for item in label:\n",
    "#    print item\n"
   ]
  },
  {
   "cell_type": "code",
   "execution_count": 42,
   "metadata": {
    "collapsed": false
   },
   "outputs": [
    {
     "name": "stdout",
     "output_type": "stream",
     "text": [
      "0\n"
     ]
    }
   ],
   "source": [
    "print label_data[119][106]\n",
    "#print image_label[119]\n",
    "#for item in label_data:\n",
    "    #print item"
   ]
  },
  {
   "cell_type": "code",
   "execution_count": 51,
   "metadata": {
    "collapsed": false
   },
   "outputs": [],
   "source": [
    "attributes = []\n",
    "\n",
    "i=0\n",
    "for lab in label:\n",
    "    if label_data[i][0] == lab:\n",
    "        attributes.append(label_data[i][1:107])\n",
    "    else:\n",
    "        i = i+1\n",
    "        attributes.append(label_data[i][1:107])\n",
    "\n",
    "        \n",
    "#for item in attributes:\n",
    "#    print item"
   ]
  },
  {
   "cell_type": "code",
   "execution_count": 52,
   "metadata": {
    "collapsed": true
   },
   "outputs": [],
   "source": [
    "h = h5py.File(source_folder +  \"i-LID_128x256.hdf5\", 'w' )\n",
    "dset1 = h.create_dataset(\"data\", data=image_data)\n",
    "dset2 = h.create_dataset(\"attributes\", data=attributes)\n",
    "dset3 = h.create_dataset(\"label\", data=label)\n",
    "h.close()"
   ]
  }
 ],
 "metadata": {
  "kernelspec": {
   "display_name": "Python 2",
   "language": "python",
   "name": "python2"
  },
  "language_info": {
   "codemirror_mode": {
    "name": "ipython",
    "version": 2
   },
   "file_extension": ".py",
   "mimetype": "text/x-python",
   "name": "python",
   "nbconvert_exporter": "python",
   "pygments_lexer": "ipython2",
   "version": "2.7.6"
  }
 },
 "nbformat": 4,
 "nbformat_minor": 0
}
