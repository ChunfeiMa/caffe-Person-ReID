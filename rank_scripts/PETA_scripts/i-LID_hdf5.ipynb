{
 "cells": [
  {
   "cell_type": "code",
   "execution_count": 2,
   "metadata": {
    "collapsed": false
   },
   "outputs": [],
   "source": [
    "import numpy as np\n",
    "import matplotlib.pyplot as plt\n",
    "import math\n",
    "%matplotlib inline\n",
    "import Image\n",
    "# Make sure that caffe is on the python path:\n",
    "caffe_root = '../../' # Expected to be in rank_scripts/\n",
    "\n",
    "import sys\n",
    "sys.path.insert(0, caffe_root + 'python')\n",
    "\n",
    "import caffe\n",
    "import sys\n",
    "source_folder = '/home/jayant/vision/PETA/'\n",
    "\n",
    "import os\n",
    "import h5py\n",
    "import fileinput"
   ]
  },
  {
   "cell_type": "code",
   "execution_count": 3,
   "metadata": {
    "collapsed": false
   },
   "outputs": [
    {
     "name": "stdout",
     "output_type": "stream",
     "text": [
      "187\n"
     ]
    }
   ],
   "source": [
    "pic = Image.open('/home/jayant/vision/PETA/i-LID_resize/archive/0001_001.jpg')\n",
    "A = np.array(pic)\n",
    "print A[255][127][2]"
   ]
  },
  {
   "cell_type": "code",
   "execution_count": 5,
   "metadata": {
    "collapsed": false
   },
   "outputs": [
    {
     "name": "stdout",
     "output_type": "stream",
     "text": [
      "0.733333\n",
      "0.733333\n"
     ]
    }
   ],
   "source": [
    "image_path = '/home/jayant/vision/PETA/i-LID_resize/archive/0001_001.jpg'\n",
    "query_image = caffe.io.load_image(image_path)\n",
    "A = np.array(query_image)\n",
    "A = A.transpose((2,0,1))\n",
    "print query_image[255][127][2]\n",
    "print A[2][255][127]"
   ]
  },
  {
   "cell_type": "code",
   "execution_count": 34,
   "metadata": {
    "collapsed": false
   },
   "outputs": [],
   "source": [
    "folder = '/home/jayant/vision/PETA/i-LID_resize/archive/'\n",
    "images_list = os.listdir(folder)\n",
    "images_list.sort()\n",
    "image_data = []\n",
    "\n",
    "for image in images_list:\n",
    "    #print image\n",
    "    #pic = Image.open(folder+image)\n",
    "    A = caffe.io.load_image(folder+image)\n",
    "    #A = np.array(pic,dtype='f4')\n",
    "    A = A.transpose((2,0,1))\n",
    "    C = A[0]\n",
    "    D = A[2]\n",
    "    A[2] = C\n",
    "    A[0] = D\n",
    "    B= np.array(A,dtype='f4')\n",
    "    image_data.append(B)"
   ]
  },
  {
   "cell_type": "code",
   "execution_count": 35,
   "metadata": {
    "collapsed": false
   },
   "outputs": [
    {
     "name": "stdout",
     "output_type": "stream",
     "text": [
      "[[ 0.86666667  0.88627452  0.9137255  ...,  0.67058825  0.64313728\n",
      "   0.62352943]\n",
      " [ 0.90588236  0.92156863  0.94509804 ...,  0.67450982  0.64705884\n",
      "   0.63137257]\n",
      " [ 0.94509804  0.95294118  0.97254902 ...,  0.68235296  0.65490198\n",
      "   0.63921571]\n",
      " ..., \n",
      " [ 0.96862745  0.97647059  0.95686275 ...,  0.74117649  0.74509805\n",
      "   0.74901962]\n",
      " [ 0.98039216  0.99215686  0.96862745 ...,  0.78823531  0.79215688\n",
      "   0.79215688]\n",
      " [ 0.99607843  0.99607843  0.98431373 ...,  0.78039217  0.78039217\n",
      "   0.7764706 ]]\n"
     ]
    }
   ],
   "source": [
    "print image_data[476][0]"
   ]
  },
  {
   "cell_type": "code",
   "execution_count": 36,
   "metadata": {
    "collapsed": false
   },
   "outputs": [
    {
     "name": "stdout",
     "output_type": "stream",
     "text": [
      "[[ 0.86666667  0.88627452  0.9137255  ...,  0.67058825  0.64313728\n",
      "   0.62352943]\n",
      " [ 0.90588236  0.92156863  0.94509804 ...,  0.67450982  0.64705884\n",
      "   0.63137257]\n",
      " [ 0.94509804  0.95294118  0.97254902 ...,  0.68235296  0.65490198\n",
      "   0.63921571]\n",
      " ..., \n",
      " [ 0.96862745  0.97647059  0.95686275 ...,  0.74117649  0.74509805\n",
      "   0.74901962]\n",
      " [ 0.98039216  0.99215686  0.96862745 ...,  0.78823531  0.79215688\n",
      "   0.79215688]\n",
      " [ 0.99607843  0.99607843  0.98431373 ...,  0.78039217  0.78039217\n",
      "   0.7764706 ]]\n"
     ]
    }
   ],
   "source": [
    "print image_data[476][2]\n"
   ]
  },
  {
   "cell_type": "code",
   "execution_count": 33,
   "metadata": {
    "collapsed": false
   },
   "outputs": [
    {
     "name": "stdout",
     "output_type": "stream",
     "text": [
      "[[ 0.86666667  0.88627452  0.9137255  ...,  0.67058825  0.64313728\n",
      "   0.62352943]\n",
      " [ 0.90588236  0.92156863  0.94509804 ...,  0.67450982  0.64705884\n",
      "   0.63137257]\n",
      " [ 0.94509804  0.95294118  0.97254902 ...,  0.68235296  0.65490198\n",
      "   0.63921571]\n",
      " ..., \n",
      " [ 0.96862745  0.97647059  0.95686275 ...,  0.74117649  0.74509805\n",
      "   0.74901962]\n",
      " [ 0.98039216  0.99215686  0.96862745 ...,  0.78823531  0.79215688\n",
      "   0.79215688]\n",
      " [ 0.99607843  0.99607843  0.98431373 ...,  0.78039217  0.78039217\n",
      "   0.7764706 ]]\n"
     ]
    }
   ],
   "source": [
    "print image_data[476][0]\n"
   ]
  },
  {
   "cell_type": "code",
   "execution_count": 29,
   "metadata": {
    "collapsed": false
   },
   "outputs": [
    {
     "name": "stdout",
     "output_type": "stream",
     "text": [
      "[[ 0.81568629  0.83529413  0.86274511 ...,  0.76862746  0.74901962\n",
      "   0.72941178]\n",
      " [ 0.85490197  0.87058824  0.89411765 ...,  0.77254903  0.75294119\n",
      "   0.73725492]\n",
      " [ 0.90196079  0.90980393  0.92941177 ...,  0.78039217  0.76078433\n",
      "   0.74509805]\n",
      " ..., \n",
      " [ 0.98431373  0.99215686  0.96862745 ...,  0.79215688  0.79607844\n",
      "   0.80000001]\n",
      " [ 0.99607843  1.          0.98039216 ...,  0.8392157   0.84313726\n",
      "   0.84313726]\n",
      " [ 1.          1.          0.99607843 ...,  0.83137256  0.83137256\n",
      "   0.82745099]]\n"
     ]
    }
   ],
   "source": [
    "print image_data[476][1]\n"
   ]
  },
  {
   "cell_type": "code",
   "execution_count": 14,
   "metadata": {
    "collapsed": false
   },
   "outputs": [],
   "source": [
    "label_data = []\n",
    "#image_label = []\n",
    "for line in fileinput.input('/home/jayant/vision/PETA/i-LID_atr.txt'):\n",
    "    label_data.append(line[:-2].split(' '))\n",
    "#    image_label.append(line[:-2].split(' ')[0])"
   ]
  },
  {
   "cell_type": "code",
   "execution_count": 7,
   "metadata": {
    "collapsed": false
   },
   "outputs": [],
   "source": [
    "label = []\n",
    "for item in images_list:\n",
    "    label.append(item[0:4])\n",
    "\n",
    "#for item in label:\n",
    "#    print item\n"
   ]
  },
  {
   "cell_type": "code",
   "execution_count": 8,
   "metadata": {
    "collapsed": false
   },
   "outputs": [
    {
     "name": "stdout",
     "output_type": "stream",
     "text": [
      "0\n"
     ]
    }
   ],
   "source": [
    "print label_data[119][106]\n",
    "#print image_label[119]\n",
    "#for item in label_data:\n",
    "    #print item"
   ]
  },
  {
   "cell_type": "code",
   "execution_count": 9,
   "metadata": {
    "collapsed": false
   },
   "outputs": [],
   "source": [
    "attributes = []\n",
    "\n",
    "i=0\n",
    "for lab in label:\n",
    "    if label_data[i][0] == lab:\n",
    "        attributes.append(label_data[i][1:107])\n",
    "    else:\n",
    "        i = i+1\n",
    "        attributes.append(label_data[i][1:107])\n",
    "\n",
    "        \n",
    "#for item in attributes:\n",
    "#    print item"
   ]
  },
  {
   "cell_type": "code",
   "execution_count": 10,
   "metadata": {
    "collapsed": false
   },
   "outputs": [],
   "source": [
    "label = np.array(label,dtype='f4')\n",
    "attributes = np.array(attributes,dtype='f4')"
   ]
  },
  {
   "cell_type": "code",
   "execution_count": 42,
   "metadata": {
    "collapsed": false
   },
   "outputs": [],
   "source": [
    "#for item in attributes:\n",
    "#    print item\n",
    "#print attributes[0][19]"
   ]
  },
  {
   "cell_type": "code",
   "execution_count": 11,
   "metadata": {
    "collapsed": false
   },
   "outputs": [],
   "source": [
    "h = h5py.File(source_folder +  \"i-LID_128x256_<1.hdf5\", 'w' )\n",
    "dset1 = h.create_dataset(\"data\", data=image_data)\n",
    "dset2 = h.create_dataset(\"attributes\", data=attributes)\n",
    "dset3 = h.create_dataset(\"label\",  data=label)\n",
    "h.close()"
   ]
  }
 ],
 "metadata": {
  "kernelspec": {
   "display_name": "Python 2",
   "language": "python",
   "name": "python2"
  },
  "language_info": {
   "codemirror_mode": {
    "name": "ipython",
    "version": 2
   },
   "file_extension": ".py",
   "mimetype": "text/x-python",
   "name": "python",
   "nbconvert_exporter": "python",
   "pygments_lexer": "ipython2",
   "version": "2.7.6"
  }
 },
 "nbformat": 4,
 "nbformat_minor": 0
}
