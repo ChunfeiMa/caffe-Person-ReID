{
 "cells": [
  {
   "cell_type": "markdown",
   "metadata": {},
   "source": [
    "# Person Re-ID Image Matching\n",
    "\n",
    "This is for matching two images using an already trained model."
   ]
  },
  {
   "cell_type": "markdown",
   "metadata": {},
   "source": [
    "First, import required modules, "
   ]
  },
  {
   "cell_type": "code",
   "execution_count": 1,
   "metadata": {
    "collapsed": false
   },
   "outputs": [],
   "source": [
    "import numpy as np\n",
    "import matplotlib.pyplot as plt\n",
    "import math\n",
    "%matplotlib inline\n",
    "\n",
    "# Make sure that caffe is on the python path:\n",
    "caffe_root = '../' \n",
    "import sys\n",
    "sys.path.insert(0, caffe_root + 'python')\n",
    "\n",
    "import caffe\n",
    "\n",
    "plt.rcParams['figure.figsize'] = (10, 10)\n",
    "plt.rcParams['image.interpolation'] = 'nearest'\n",
    "plt.rcParams['image.cmap'] = 'gray'\n",
    "\n",
    "import os\n",
    "\n"
   ]
  },
  {
   "cell_type": "markdown",
   "metadata": {},
   "source": [
    "Set Caffe to GPU mode, load the net in the test phase for inference, and configure input preprocessing."
   ]
  },
  {
   "cell_type": "code",
   "execution_count": 28,
   "metadata": {
    "collapsed": false
   },
   "outputs": [],
   "source": [
    "caffe.set_device(0)\n",
    "caffe.set_mode_gpu()\n",
    "net = caffe.Net(caffe_root +  'rank_scripts/rank_alexnet/my_unsup_net_deploy.prototxt',\n",
    "                caffe_root + 'rank_scripts/models17/_iter_250000.caffemodel',\n",
    "                caffe.TEST)\n",
    "net1 = caffe.Net(caffe_root +  'rank_scripts/rank_alexnet/my_unsup_net_deploy.prototxt',\n",
    "                caffe_root + 'rank_scripts/models17/_iter_250000.caffemodel',\n",
    "                caffe.TEST)\n",
    "\n",
    "# input preprocessing: 'data' is the name of the input blob == net.inputs[0]\n",
    "transformer = caffe.io.Transformer({'data': net.blobs['data'].data.shape})\n",
    "transformer.set_transpose('data', (2,0,1))\n",
    "#transformer.set_mean('data', np.load(caffe_root + 'rank_scripts/query_256x128_market.npy').mean(1).mean(1)) # mean pixel\n",
    "transformer.set_raw_scale('data', 255)  # the reference model operates on images in [0,255] range instead of [0,1]\n",
    "transformer.set_channel_swap('data', (2,1,0))  # the reference model has channels in BGR order instead of RGB"
   ]
  },
  {
   "cell_type": "markdown",
   "metadata": {},
   "source": [
    "We'll set a batch of 100 to demonstrate batch processing. (Note that the batch size can also be changed on-the-fly.)"
   ]
  },
  {
   "cell_type": "code",
   "execution_count": 29,
   "metadata": {
    "collapsed": false
   },
   "outputs": [],
   "source": [
    "# set net to batch size of 50\n",
    "net.blobs['data'].reshape(50,3,256,128)\n",
    "net1.blobs['data'].reshape(50,3,256,128)"
   ]
  },
  {
   "cell_type": "markdown",
   "metadata": {},
   "source": [
    "Feed in the image (with some preprocessing) and use a forward pass."
   ]
  },
  {
   "cell_type": "code",
   "execution_count": 33,
   "metadata": {
    "collapsed": false
   },
   "outputs": [
    {
     "name": "stdout",
     "output_type": "stream",
     "text": [
      "[-2.01592088 -2.71733451 -2.28586817 ..., -1.60685551 -0.88417357\n",
      " -0.12976545]\n"
     ]
    }
   ],
   "source": [
    "net.blobs['data'].data[...] = transformer.preprocess('data', caffe.io.load_image(caffe_root + 'rank_scripts/images_market/0049_c3s1_004976_00.jpg'))\n",
    "#check_image =  caffe.io.load_image(caffe_root + 'rank_scripts/images_market/0002_c1s2_050821_02.jpg')\n",
    "out = net.forward()\n",
    "vector1=out['fc7'][0]\n",
    "print vector1\n",
    "#plt.imshow(check_image)"
   ]
  },
  {
   "cell_type": "code",
   "execution_count": 35,
   "metadata": {
    "collapsed": false
   },
   "outputs": [
    {
     "name": "stdout",
     "output_type": "stream",
     "text": [
      "[-2.38699293 -3.22226834 -2.62830853 ..., -1.55498087 -1.02998424\n",
      " -0.2555328 ]\n"
     ]
    }
   ],
   "source": [
    "net1.blobs['data'].data[...] = transformer.preprocess('data', caffe.io.load_image(caffe_root + 'rank_scripts/images_market/0049_c6s1_005651_00.jpg'))\n",
    "out1 = net1.forward()\n",
    "vector2=out1['fc7'][0]\n",
    "print vector2"
   ]
  },
  {
   "cell_type": "code",
   "execution_count": 36,
   "metadata": {
    "collapsed": false
   },
   "outputs": [
    {
     "name": "stdout",
     "output_type": "stream",
     "text": [
      "16.8446323278\n"
     ]
    }
   ],
   "source": [
    "# calculating euclidean distance\n",
    "sum=0\n",
    "for i in range(4096):\n",
    "        diff= vector1[i]-vector2[i]\n",
    "        diff=diff*diff\n",
    "        sum=sum+diff\n",
    "        \n",
    "print math.sqrt(sum)"
   ]
  }
 ],
 "metadata": {
  "description": "Instant recognition with a pre-trained model and a tour of the net interface for visualizing features and parameters layer-by-layer.",
  "example_name": "Image Classification and Filter Visualization",
  "include_in_docs": true,
  "kernelspec": {
   "display_name": "Python 2",
   "language": "python",
   "name": "python2"
  },
  "language_info": {
   "codemirror_mode": {
    "name": "ipython",
    "version": 2
   },
   "file_extension": ".py",
   "mimetype": "text/x-python",
   "name": "python",
   "nbconvert_exporter": "python",
   "pygments_lexer": "ipython2",
   "version": "2.7.6"
  },
  "priority": 1
 },
 "nbformat": 4,
 "nbformat_minor": 0
}
