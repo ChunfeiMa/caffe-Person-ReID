{
 "cells": [
  {
   "cell_type": "code",
   "execution_count": 1,
   "metadata": {
    "collapsed": false
   },
   "outputs": [],
   "source": [
    "import numpy as np\n",
    "import matplotlib.pyplot as plt\n",
    "import math\n",
    "%matplotlib inline\n",
    "\n",
    "# Make sure that caffe is on the python path:\n",
    "caffe_root = '../' \n",
    "import sys\n",
    "sys.path.insert(0, caffe_root + 'python')\n",
    "\n",
    "import caffe\n",
    "\n",
    "plt.rcParams['figure.figsize'] = (10, 10)\n",
    "plt.rcParams['image.interpolation'] = 'nearest'\n",
    "plt.rcParams['image.cmap'] = 'gray'\n",
    "\n",
    "import os"
   ]
  },
  {
   "cell_type": "code",
   "execution_count": 2,
   "metadata": {
    "collapsed": true
   },
   "outputs": [],
   "source": [
    "#getDiff Implementation\n",
    "def getDiff( vector1, vector2 ):\n",
    "    sum=0\n",
    "    for i in range(50):\n",
    "        for j in range(1024):\n",
    "            diff= vector1[i][j]-vector2[i][j]\n",
    "            diff=diff*diff\n",
    "            sum=sum+diff\n",
    "        \n",
    "    return math.sqrt(sum)"
   ]
  },
  {
   "cell_type": "code",
   "execution_count": 3,
   "metadata": {
    "collapsed": true
   },
   "outputs": [],
   "source": [
    "caffe.set_device(0)\n",
    "caffe.set_mode_gpu()\n",
    "net = caffe.Net(caffe_root +  'examples/_temp/unsup_net_deploy.prototxt',\n",
    "                    caffe_root + 'rank_scripts/models2/_iter_100.caffemodel',\n",
    "                    caffe.TEST)# input preprocessing: 'data' is the name of the input blob == net.inputs[0]\n",
    "\n",
    "transformer = caffe.io.Transformer({'data': net.blobs['data'].data.shape})\n",
    "transformer.set_transpose('data', (2,0,1))\n",
    "transformer.set_mean('data', np.load(caffe_root + 'rank_scripts/market_train_mean.npy').mean(1).mean(1)) # mean pixel\n",
    "transformer.set_raw_scale('data', 255)  # the reference model operates on images in [0,255] range instead of [0,1]\n",
    "transformer.set_channel_swap('data', (2,1,0))  # the reference model has channels in BGR order instead of RGB"
   ]
  },
  {
   "cell_type": "code",
   "execution_count": 4,
   "metadata": {
    "collapsed": false
   },
   "outputs": [],
   "source": [
    "#Rank Vector Setup\n",
    "num_rank = 6\n",
    "\n",
    "#source of query folder\n",
    "query_folder = caffe_root + 'rank_scripts/check_images/'\n",
    "images_list = os.listdir(query_folder)"
   ]
  },
  {
   "cell_type": "code",
   "execution_count": 12,
   "metadata": {
    "collapsed": false
   },
   "outputs": [],
   "source": [
    "images_features = {}\n",
    "\n",
    "for image in images_list:\n",
    "    net = caffe.Net(caffe_root +  'examples/_temp/unsup_net_deploy.prototxt',\n",
    "                    caffe_root + 'rank_scripts/models2/_iter_100.caffemodel',\n",
    "                    caffe.TEST)# input preprocessing: 'data' is the name of the input blob == net.inputs[0]\n",
    "\n",
    "    # set net to batch size of 100\n",
    "    net.blobs['data'].reshape(100,3,64,64)\n",
    "\n",
    "    query_image_path = 'rank_scripts/images_market/' + image\n",
    "    query_image = caffe.io.load_image(caffe_root + query_image_path)\n",
    "    net.blobs['data'].data[...] = transformer.preprocess('data', query_image)\n",
    "    out = net.forward()\n",
    "    images_features[image]=out['fc7']"
   ]
  },
  {
   "cell_type": "code",
   "execution_count": 18,
   "metadata": {
    "collapsed": false
   },
   "outputs": [],
   "source": [
    "#print images_features['0026_c2s1_001626_00.jpg']\n",
    "images_set= []\n",
    "  \n",
    "for line in fileinput.input('query_set.txt'):\n",
    "    images_set.append(line[:-1])\n"
   ]
  },
  {
   "cell_type": "code",
   "execution_count": 19,
   "metadata": {
    "collapsed": false
   },
   "outputs": [],
   "source": [
    "file1 = open('market_cmc.txt','w')\n",
    "\n",
    "for image_q in images_set:\n",
    "    \n",
    "    vector_query = images_features[image_q]\n",
    "    #plt.figure(figsize=(3,3))\n",
    "    #plt.imshow(query_image)\n",
    "\n",
    "    #Paired list to hold (diff,imagePath)\n",
    "\n",
    "    Rank_list= []\n",
    "\n",
    "    #print images_list\n",
    "\n",
    "    for image in images_list:\n",
    "\n",
    "        vector_new=images_features[image]\n",
    "        diff = getDiff(vector_query, vector_new)\n",
    "\n",
    "        #add the pair (diff,image) to the list\n",
    "        Rank_list.append((diff,image))\n",
    "\n",
    "        #sort the list based on diff\n",
    "        Rank_list.sort()\n",
    "\n",
    "        #remove the last element if more than 'num_rank'\n",
    "        if len(Rank_list) > num_rank :\n",
    "            Rank_list.remove(Rank_list[len(Rank_list)-1])\n",
    "\n",
    "    file1.write(image_q)\n",
    "    file1.write(',')\n",
    "    \n",
    "    for item in Rank_list:\n",
    "        file1.write(item[1])\n",
    "        \n",
    "        if item is Rank_list[len(Rank_list)-1]:\n",
    "            file1.write('\\n')\n",
    "        else:\n",
    "            file1.write(',')\n",
    "    \n",
    "file1.close()"
   ]
  }
 ],
 "metadata": {
  "kernelspec": {
   "display_name": "Python 2",
   "language": "python",
   "name": "python2"
  },
  "language_info": {
   "codemirror_mode": {
    "name": "ipython",
    "version": 2
   },
   "file_extension": ".py",
   "mimetype": "text/x-python",
   "name": "python",
   "nbconvert_exporter": "python",
   "pygments_lexer": "ipython2",
   "version": "2.7.6"
  }
 },
 "nbformat": 4,
 "nbformat_minor": 0
}
