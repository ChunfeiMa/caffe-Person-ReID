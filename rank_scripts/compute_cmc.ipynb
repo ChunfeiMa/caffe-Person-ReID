{
 "cells": [
  {
   "cell_type": "code",
   "execution_count": 1,
   "metadata": {
    "collapsed": false
   },
   "outputs": [],
   "source": [
    "import sys\n",
    "import fileinput\n",
    "import matplotlib\n",
    "import matplotlib.pyplot as plt\n",
    "%matplotlib inline \n",
    "import numpy as np\n",
    "\n",
    "data = []\n",
    "\n",
    "for line in fileinput.input('cur.txt'):\n",
    "    data.append(line[:-1].split(','))\n",
    "    \n",
    "#for item in data:\n",
    "#    print item\n",
    "    \n",
    "#print data"
   ]
  },
  {
   "cell_type": "code",
   "execution_count": 2,
   "metadata": {
    "collapsed": false
   },
   "outputs": [
    {
     "name": "stdout",
     "output_type": "stream",
     "text": [
      "20\n"
     ]
    }
   ],
   "source": [
    "num_rank = len(data[0])-2\n",
    "print num_rank"
   ]
  },
  {
   "cell_type": "code",
   "execution_count": 3,
   "metadata": {
    "collapsed": false
   },
   "outputs": [
    {
     "name": "stdout",
     "output_type": "stream",
     "text": [
      "[174, 237, 278, 315, 336, 352, 370, 386, 397, 405, 415, 427, 434, 441, 447, 459, 467, 478, 482, 486]\n"
     ]
    }
   ],
   "source": [
    "Rank_cnt = [0]* num_rank\n",
    "k=0\n",
    "p=0\n",
    "for item in data:\n",
    "    query_id = int(item[0][0:4])\n",
    "    \n",
    "    for i in range(2,len(item)):\n",
    "        match_id = int(item[i][0:4])\n",
    "\n",
    "        if match_id == query_id :\n",
    "            for j in range(i,len(item)):\n",
    "                Rank_cnt[j-2] = Rank_cnt[j-2]+1\n",
    "            break\n",
    "    \n",
    "\n",
    "print Rank_cnt"
   ]
  },
  {
   "cell_type": "code",
   "execution_count": 4,
   "metadata": {
    "collapsed": false
   },
   "outputs": [
    {
     "name": "stdout",
     "output_type": "stream",
     "text": [
      "[23.2, 31.6, 37.06666666666667, 42.0, 44.8, 46.93333333333333, 49.333333333333336, 51.46666666666667, 52.93333333333333, 54.0, 55.333333333333336, 56.93333333333333, 57.86666666666667, 58.8, 59.6, 61.2, 62.266666666666666, 63.733333333333334, 64.26666666666667, 64.8]\n"
     ]
    }
   ],
   "source": [
    "x  = range(1,num_rank+1)\n",
    "y = []\n",
    "\n",
    "for rank in Rank_cnt:\n",
    "    y.append(rank*100*1.0/len(data))\n",
    "    \n",
    "print y"
   ]
  },
  {
   "cell_type": "code",
   "execution_count": 5,
   "metadata": {
    "collapsed": false
   },
   "outputs": [
    {
     "data": {
      "image/png": "[encoded data removed]",
      "text/plain": [
       "<matplotlib.figure.Figure at 0x7f8944387ad0>"
      ]
     },
     "metadata": {},
     "output_type": "display_data"
    }
   ],
   "source": [
    "plt.plot(x,y)\n",
    "plt.xticks(np.arange(1,num_rank+1,1))\n",
    "plt.savefig('temp.png')"
   ]
  }
 ],
 "metadata": {
  "kernelspec": {
   "display_name": "Python 2",
   "language": "python",
   "name": "python2"
  },
  "language_info": {
   "codemirror_mode": {
    "name": "ipython",
    "version": 2
   },
   "file_extension": ".py",
   "mimetype": "text/x-python",
   "name": "python",
   "nbconvert_exporter": "python",
   "pygments_lexer": "ipython2",
   "version": "2.7.6"
  }
 },
 "nbformat": 4,
 "nbformat_minor": 0
}
