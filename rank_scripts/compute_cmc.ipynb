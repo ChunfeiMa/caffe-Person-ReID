{
 "cells": [
  {
   "cell_type": "code",
   "execution_count": 6,
   "metadata": {
    "collapsed": false
   },
   "outputs": [],
   "source": [
    "import sys\n",
    "import fileinput\n",
    "import matplotlib\n",
    "import matplotlib.pyplot as plt\n",
    "%matplotlib inline \n",
    "import numpy as np\n",
    "\n",
    "data = []\n",
    "\n",
    "for line in fileinput.input('cur.txt'):\n",
    "    data.append(line[:-1].split(','))\n",
    "    \n",
    "#for item in data:\n",
    "#    print item"
   ]
  },
  {
   "cell_type": "code",
   "execution_count": 7,
   "metadata": {
    "collapsed": false
   },
   "outputs": [],
   "source": [
    "num_rank = len(data[0])-2"
   ]
  },
  {
   "cell_type": "code",
   "execution_count": 12,
   "metadata": {
    "collapsed": false
   },
   "outputs": [
    {
     "name": "stdout",
     "output_type": "stream",
     "text": [
      "[10, 14, 18, 20, 22, 23, 25, 27, 28, 28, 28, 28, 28, 29, 30]\n"
     ]
    }
   ],
   "source": [
    "Rank_cnt = [0]* num_rank\n",
    "\n",
    "for item in data:\n",
    "    query_id = int(item[0][0:4])\n",
    "    \n",
    "    for i in range(2,len(item)):\n",
    "        match_id = int(item[i][0:4])\n",
    "        \n",
    "        if match_id is query_id :\n",
    "            for j in range(i,len(item)):\n",
    "                Rank_cnt[j-2] = Rank_cnt[j-2]+1\n",
    "            break\n",
    "\n",
    "print Rank_cnt"
   ]
  },
  {
   "cell_type": "code",
   "execution_count": 13,
   "metadata": {
    "collapsed": false
   },
   "outputs": [
    {
     "name": "stdout",
     "output_type": "stream",
     "text": [
      "[7.633587786259542, 10.687022900763358, 13.740458015267176, 15.267175572519085, 16.793893129770993, 17.557251908396946, 19.083969465648856, 20.610687022900763, 21.374045801526716, 21.374045801526716, 21.374045801526716, 21.374045801526716, 21.374045801526716, 22.137404580152673, 22.900763358778626]\n"
     ]
    }
   ],
   "source": [
    "x  = range(1,num_rank+1)\n",
    "y = []\n",
    "\n",
    "for rank in Rank_cnt:\n",
    "    y.append(rank*100*1.0/len(data))\n",
    "    \n",
    "print y"
   ]
  },
  {
   "cell_type": "code",
   "execution_count": 5,
   "metadata": {
    "collapsed": false
   },
   "outputs": [
    {
     "data": {
      "image/png": "[encoded data removed]",
      "text/plain": [
       "<matplotlib.figure.Figure at 0x7fb64c578810>"
      ]
     },
     "metadata": {},
     "output_type": "display_data"
    }
   ],
   "source": [
    "plt.plot(x,y)\n",
    "plt.xticks(np.arange(1,num_rank+1,1))\n",
    "plt.savefig('temp.png')"
   ]
  }
 ],
 "metadata": {
  "kernelspec": {
   "display_name": "Python 2",
   "language": "python",
   "name": "python2"
  },
  "language_info": {
   "codemirror_mode": {
    "name": "ipython",
    "version": 2
   },
   "file_extension": ".py",
   "mimetype": "text/x-python",
   "name": "python",
   "nbconvert_exporter": "python",
   "pygments_lexer": "ipython2",
   "version": "2.7.6"
  }
 },
 "nbformat": 4,
 "nbformat_minor": 0
}
