{
 "cells": [
  {
   "cell_type": "code",
   "execution_count": 48,
   "metadata": {
    "collapsed": false
   },
   "outputs": [],
   "source": [
    "import sys\n",
    "import fileinput\n",
    "import matplotlib\n",
    "import matplotlib.pyplot as plt\n",
    "%matplotlib inline \n",
    "import numpy as np\n",
    "\n",
    "data = []\n",
    "\n",
    "for line in fileinput.input('cur.txt'):\n",
    "    data.append(line[:-1].split(','))\n",
    "    \n",
    "#for item in data:\n",
    "#    print item\n",
    "    \n",
    "#print data"
   ]
  },
  {
   "cell_type": "code",
   "execution_count": 49,
   "metadata": {
    "collapsed": false
   },
   "outputs": [
    {
     "name": "stdout",
     "output_type": "stream",
     "text": [
      "15\n"
     ]
    }
   ],
   "source": [
    "num_rank = len(data[0])-2\n",
    "print num_rank"
   ]
  },
  {
   "cell_type": "code",
   "execution_count": 53,
   "metadata": {
    "collapsed": false
   },
   "outputs": [
    {
     "name": "stdout",
     "output_type": "stream",
     "text": [
      "[139, 181, 214, 242, 259, 273, 292, 309, 320, 327, 339, 349, 362, 371, 379]\n"
     ]
    }
   ],
   "source": [
    "Rank_cnt = [0]* num_rank\n",
    "k=0\n",
    "p=0\n",
    "for item in data:\n",
    "    query_id = int(item[0][0:4])\n",
    "    \n",
    "    for i in range(2,len(item)):\n",
    "        match_id = int(item[i][0:4])\n",
    "\n",
    "        if match_id == query_id :\n",
    "            for j in range(i,len(item)):\n",
    "                Rank_cnt[j-2] = Rank_cnt[j-2]+1\n",
    "            break\n",
    "    \n",
    "\n",
    "print Rank_cnt"
   ]
  },
  {
   "cell_type": "code",
   "execution_count": 54,
   "metadata": {
    "collapsed": false
   },
   "outputs": [
    {
     "name": "stdout",
     "output_type": "stream",
     "text": [
      "[18.533333333333335, 24.133333333333333, 28.533333333333335, 32.266666666666666, 34.53333333333333, 36.4, 38.93333333333333, 41.2, 42.666666666666664, 43.6, 45.2, 46.53333333333333, 48.266666666666666, 49.46666666666667, 50.53333333333333]\n"
     ]
    }
   ],
   "source": [
    "x  = range(1,num_rank+1)\n",
    "y = []\n",
    "\n",
    "for rank in Rank_cnt:\n",
    "    y.append(rank*100*1.0/len(data))\n",
    "    \n",
    "print y"
   ]
  },
  {
   "cell_type": "code",
   "execution_count": 55,
   "metadata": {
    "collapsed": false
   },
   "outputs": [
    {
     "data": {
      "image/png": "[encoded data removed]",
      "text/plain": [
       "<matplotlib.figure.Figure at 0x7f835c20efd0>"
      ]
     },
     "metadata": {},
     "output_type": "display_data"
    }
   ],
   "source": [
    "plt.plot(x,y)\n",
    "plt.xticks(np.arange(1,num_rank+1,1))\n",
    "plt.savefig('temp.png')"
   ]
  }
 ],
 "metadata": {
  "kernelspec": {
   "display_name": "Python 2",
   "language": "python",
   "name": "python2"
  },
  "language_info": {
   "codemirror_mode": {
    "name": "ipython",
    "version": 2
   },
   "file_extension": ".py",
   "mimetype": "text/x-python",
   "name": "python",
   "nbconvert_exporter": "python",
   "pygments_lexer": "ipython2",
   "version": "2.7.6"
  }
 },
 "nbformat": 4,
 "nbformat_minor": 0
}
